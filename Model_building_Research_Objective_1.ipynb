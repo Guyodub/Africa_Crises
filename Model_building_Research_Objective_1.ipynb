{
  "nbformat": 4,
  "nbformat_minor": 0,
  "metadata": {
    "colab": {
      "name": "Model building -Research Objective 1.ipynb",
      "provenance": [],
      "collapsed_sections": [],
      "authorship_tag": "ABX9TyMjtBRxU7gK/nQytHdhRRy6",
      "include_colab_link": true
    },
    "kernelspec": {
      "display_name": "Python 3",
      "name": "python3"
    },
    "accelerator": "GPU"
  },
  "cells": [
    {
      "cell_type": "markdown",
      "metadata": {
        "id": "view-in-github",
        "colab_type": "text"
      },
      "source": [
        "<a href=\"https://colab.research.google.com/github/Guyodub/Africa_Crises/blob/main/Model_building_Research_Objective_1.ipynb\" target=\"_parent\"><img src=\"https://colab.research.google.com/assets/colab-badge.svg\" alt=\"Open In Colab\"/></a>"
      ]
    },
    {
      "cell_type": "markdown",
      "metadata": {
        "id": "0mExBjz7xXim"
      },
      "source": [
        "## Fake News Data "
      ]
    },
    {
      "cell_type": "markdown",
      "metadata": {
        "id": "aLi5D4RHxe8D"
      },
      "source": [
        "Fake news is a new phenomena that has taken the world by surprise. It's negative ramifications is felt now more than ever especially accelerated by growth of social media usage.\n",
        "\n",
        "This notebook is motivated by my Msc. Thesis. I am working on 'EXPLAINABLE DEEP LEARNING MODEL FOR FAKE NEWS CLASSIFICATION: A CASE STUDY OF FAKE NEWS DATA IN KENYA'.\n",
        "\n",
        "The main objective: To build an explainable hybrid model that can produce better accuracy and has ability for early fake news detection with explainable factors.\n",
        "\n",
        "The Specific objectives of my research is three-folds;\n",
        "\n",
        "**1. To build a prediction model based on a hybrid deep learning approach.**\n",
        "2. To explain model predictions in order to improve public trust.\n",
        "3. To conduct experiments to evaluate model prediction and interpretability.\n",
        "\n",
        "\n",
        "This notebook implements objective 1 above and its aims are;\n",
        "\n",
        "a. To compare different machine learning models while applying different tokenization technique on Fake News data.\n",
        "\n",
        "b. To compare different machine learning models while applying different vectorization approaches on Fake News data.\n",
        "\n",
        "c. To obtain a hybrid model that can produce the best performance\n"
      ]
    },
    {
      "cell_type": "markdown",
      "metadata": {
        "id": "c4w7z3hLz-1N"
      },
      "source": [
        "Load libraries"
      ]
    },
    {
      "cell_type": "code",
      "metadata": {
        "colab": {
          "base_uri": "https://localhost:8080/",
          "height": 52
        },
        "id": "CcGs3PO4KGvc",
        "outputId": "9c13c3ca-88fc-4138-f32d-fc491a22a54e"
      },
      "source": [
        "import numpy as np\n",
        "\n",
        "import pandas as pd\n",
        "\n",
        "##Packages for preprocessing\n",
        "import nltk\n",
        "nltk.download('stopwords')\n",
        "from nltk.corpus import stopwords\n",
        "import re\n",
        "from nltk.corpus import stopwords\n",
        "from nltk.stem.porter import PorterStemmer\n",
        "\n",
        "##Packages for vectorization\n",
        "from sklearn.feature_extraction.text import CountVectorizer, TfidfVectorizer, HashingVectorizer\n",
        "from keras.preprocessing.text import Tokenizer\n",
        "#Plotting package\n",
        "import matplotlib.pyplot as plt\n",
        "#package for models\n",
        "from sklearn.naive_bayes import MultinomialNB\n",
        "from sklearn import metrics\n",
        "import itertools\n",
        "#Packages for passiveAggressiveClassifier\n",
        "from sklearn.linear_model import PassiveAggressiveClassifier\n",
        "#Logistics regression\n",
        "from sklearn.linear_model import LogisticRegression\n",
        "from sklearn.metrics import accuracy_score, f1_score, precision_score, recall_score\n",
        "\n",
        "#Packages for embeddings\n",
        "from gensim.test.utils import common_texts\n",
        "from gensim.models import Word2Vec\n",
        "\n",
        "# Visualization using Matplotlib, Seaborn, Plotly\n",
        "import matplotlib.pyplot as plt\n",
        "plt.style.use('ggplot')\n",
        "\n",
        "import seaborn as sns\n",
        "sns.set_style('white')\n",
        "\n",
        "import plotly.offline as py\n",
        "import plotly.graph_objs as go\n",
        "py.init_notebook_mode(connected=True)"
      ],
      "execution_count": null,
      "outputs": [
        {
          "output_type": "stream",
          "text": [
            "[nltk_data] Downloading package stopwords to /root/nltk_data...\n",
            "[nltk_data]   Package stopwords is already up-to-date!\n"
          ],
          "name": "stdout"
        },
        {
          "output_type": "display_data",
          "data": {
            "text/html": [
              "        <script type=\"text/javascript\">\n",
              "        window.PlotlyConfig = {MathJaxConfig: 'local'};\n",
              "        if (window.MathJax) {MathJax.Hub.Config({SVG: {font: \"STIX-Web\"}});}\n",
              "        if (typeof require !== 'undefined') {\n",
              "        require.undef(\"plotly\");\n",
              "        requirejs.config({\n",
              "            paths: {\n",
              "                'plotly': ['https://cdn.plot.ly/plotly-latest.min']\n",
              "            }\n",
              "        });\n",
              "        require(['plotly'], function(Plotly) {\n",
              "            window._Plotly = Plotly;\n",
              "        });\n",
              "        }\n",
              "        </script>\n",
              "        "
            ]
          },
          "metadata": {
            "tags": []
          }
        }
      ]
    },
    {
      "cell_type": "markdown",
      "metadata": {
        "id": "piJtBUEQ0Crm"
      },
      "source": [
        "Read data sets"
      ]
    },
    {
      "cell_type": "code",
      "metadata": {
        "id": "sy_Ed9jeT-pc"
      },
      "source": [
        "# !pip install PyDrive"
      ],
      "execution_count": null,
      "outputs": []
    },
    {
      "cell_type": "code",
      "metadata": {
        "id": "Uj5iXdiSY2Ab"
      },
      "source": [
        "# !pip install -U -q PyDrive"
      ],
      "execution_count": null,
      "outputs": []
    },
    {
      "cell_type": "markdown",
      "metadata": {
        "id": "BUlVPj-mUGFt"
      },
      "source": [
        "Prepare Colab to read csv from google drive"
      ]
    },
    {
      "cell_type": "code",
      "metadata": {
        "id": "wMIOXBidT_mI"
      },
      "source": [
        " # Code to read csv file into Colaboratory:\n",
        "from pydrive.auth import GoogleAuth\n",
        "from pydrive.drive import GoogleDrive\n",
        "from google.colab import auth\n",
        "from oauth2client.client import GoogleCredentials\n",
        "# Authenticate and create the PyDrive client.\n",
        "auth.authenticate_user()\n",
        "gauth = GoogleAuth()\n",
        "gauth.credentials = GoogleCredentials.get_application_default()\n",
        "drive = GoogleDrive(gauth)"
      ],
      "execution_count": null,
      "outputs": []
    },
    {
      "cell_type": "code",
      "metadata": {
        "id": "XqBFa-tXULI7"
      },
      "source": [
        "link = 'https://drive.google.com/file/d/1GkmZuIFg1ZtWyamHS5AgUZ9iIrulPWIf/view?usp=sharing' "
      ],
      "execution_count": null,
      "outputs": []
    },
    {
      "cell_type": "code",
      "metadata": {
        "id": "1cOhWWWST_uK"
      },
      "source": [
        "id ='1GkmZuIFg1ZtWyamHS5AgUZ9iIrulPWIf'"
      ],
      "execution_count": null,
      "outputs": []
    },
    {
      "cell_type": "code",
      "metadata": {
        "id": "hAyoTEc9UOeY"
      },
      "source": [
        "downloaded = drive.CreateFile({'id':id}) \n",
        "downloaded.GetContentFile('train.csv')  "
      ],
      "execution_count": null,
      "outputs": []
    },
    {
      "cell_type": "markdown",
      "metadata": {
        "id": "FvcfresvURth"
      },
      "source": [
        "#Data source\n",
        "\n",
        "https://www.kaggle.com/c/fake-news/data"
      ]
    },
    {
      "cell_type": "markdown",
      "metadata": {
        "id": "SeQ4WW9EUdRj"
      },
      "source": [
        "Read data sets"
      ]
    },
    {
      "cell_type": "code",
      "metadata": {
        "id": "qfxRAcnXUg-4"
      },
      "source": [
        "df= pd.read_csv('train.csv')"
      ],
      "execution_count": null,
      "outputs": []
    },
    {
      "cell_type": "code",
      "metadata": {
        "colab": {
          "base_uri": "https://localhost:8080/"
        },
        "id": "tjbE0pk7bDSL",
        "outputId": "b8af6f47-e3a2-44c9-8afa-c34b6ab4390a"
      },
      "source": [
        "df.shape"
      ],
      "execution_count": null,
      "outputs": [
        {
          "output_type": "execute_result",
          "data": {
            "text/plain": [
              "(20800, 5)"
            ]
          },
          "metadata": {
            "tags": []
          },
          "execution_count": 37
        }
      ]
    },
    {
      "cell_type": "code",
      "metadata": {
        "colab": {
          "base_uri": "https://localhost:8080/",
          "height": 415
        },
        "id": "ZEWVTe08bHO0",
        "outputId": "67a7a663-e304-433c-a8c1-4fbe55b43533"
      },
      "source": [
        "df.head(-5)"
      ],
      "execution_count": null,
      "outputs": [
        {
          "output_type": "execute_result",
          "data": {
            "text/html": [
              "<div>\n",
              "<style scoped>\n",
              "    .dataframe tbody tr th:only-of-type {\n",
              "        vertical-align: middle;\n",
              "    }\n",
              "\n",
              "    .dataframe tbody tr th {\n",
              "        vertical-align: top;\n",
              "    }\n",
              "\n",
              "    .dataframe thead th {\n",
              "        text-align: right;\n",
              "    }\n",
              "</style>\n",
              "<table border=\"1\" class=\"dataframe\">\n",
              "  <thead>\n",
              "    <tr style=\"text-align: right;\">\n",
              "      <th></th>\n",
              "      <th>id</th>\n",
              "      <th>title</th>\n",
              "      <th>author</th>\n",
              "      <th>text</th>\n",
              "      <th>label</th>\n",
              "    </tr>\n",
              "  </thead>\n",
              "  <tbody>\n",
              "    <tr>\n",
              "      <th>0</th>\n",
              "      <td>0</td>\n",
              "      <td>House Dem Aide: We Didn’t Even See Comey’s Let...</td>\n",
              "      <td>Darrell Lucus</td>\n",
              "      <td>House Dem Aide: We Didn’t Even See Comey’s Let...</td>\n",
              "      <td>1</td>\n",
              "    </tr>\n",
              "    <tr>\n",
              "      <th>1</th>\n",
              "      <td>1</td>\n",
              "      <td>FLYNN: Hillary Clinton, Big Woman on Campus - ...</td>\n",
              "      <td>Daniel J. Flynn</td>\n",
              "      <td>Ever get the feeling your life circles the rou...</td>\n",
              "      <td>0</td>\n",
              "    </tr>\n",
              "    <tr>\n",
              "      <th>2</th>\n",
              "      <td>2</td>\n",
              "      <td>Why the Truth Might Get You Fired</td>\n",
              "      <td>Consortiumnews.com</td>\n",
              "      <td>Why the Truth Might Get You Fired October 29, ...</td>\n",
              "      <td>1</td>\n",
              "    </tr>\n",
              "    <tr>\n",
              "      <th>3</th>\n",
              "      <td>3</td>\n",
              "      <td>15 Civilians Killed In Single US Airstrike Hav...</td>\n",
              "      <td>Jessica Purkiss</td>\n",
              "      <td>Videos 15 Civilians Killed In Single US Airstr...</td>\n",
              "      <td>1</td>\n",
              "    </tr>\n",
              "    <tr>\n",
              "      <th>4</th>\n",
              "      <td>4</td>\n",
              "      <td>Iranian woman jailed for fictional unpublished...</td>\n",
              "      <td>Howard Portnoy</td>\n",
              "      <td>Print \\nAn Iranian woman has been sentenced to...</td>\n",
              "      <td>1</td>\n",
              "    </tr>\n",
              "    <tr>\n",
              "      <th>...</th>\n",
              "      <td>...</td>\n",
              "      <td>...</td>\n",
              "      <td>...</td>\n",
              "      <td>...</td>\n",
              "      <td>...</td>\n",
              "    </tr>\n",
              "    <tr>\n",
              "      <th>20790</th>\n",
              "      <td>20790</td>\n",
              "      <td>Nikki Haley Blasts U.N. Human Rights Office fo...</td>\n",
              "      <td>Adam Shaw</td>\n",
              "      <td>U. S Ambassador to the United Nations Nikki Ha...</td>\n",
              "      <td>0</td>\n",
              "    </tr>\n",
              "    <tr>\n",
              "      <th>20791</th>\n",
              "      <td>20791</td>\n",
              "      <td>Lawyer Who Kept Hillary Campaign Chief Out of ...</td>\n",
              "      <td>Daniel Greenfield</td>\n",
              "      <td>Lawyer Who Kept Hillary Campaign Chief Out of ...</td>\n",
              "      <td>1</td>\n",
              "    </tr>\n",
              "    <tr>\n",
              "      <th>20792</th>\n",
              "      <td>20792</td>\n",
              "      <td>Jakarta Bombing Kills Three Police Officers, L...</td>\n",
              "      <td>John Hayward</td>\n",
              "      <td>Two suicide bombers attacked a bus station in ...</td>\n",
              "      <td>0</td>\n",
              "    </tr>\n",
              "    <tr>\n",
              "      <th>20793</th>\n",
              "      <td>20793</td>\n",
              "      <td>Idiot Who Destroyed Trump Hollywood Star Gets ...</td>\n",
              "      <td>Robert Rich</td>\n",
              "      <td>Share This \\nAlthough the vandal who thought i...</td>\n",
              "      <td>1</td>\n",
              "    </tr>\n",
              "    <tr>\n",
              "      <th>20794</th>\n",
              "      <td>20794</td>\n",
              "      <td>Trump: Putin ’Very Smart’ to Not Retaliate ove...</td>\n",
              "      <td>Lee Stranahan</td>\n",
              "      <td>Donald Trump took to Twitter Friday to praise ...</td>\n",
              "      <td>0</td>\n",
              "    </tr>\n",
              "  </tbody>\n",
              "</table>\n",
              "<p>20795 rows × 5 columns</p>\n",
              "</div>"
            ],
            "text/plain": [
              "          id  ... label\n",
              "0          0  ...     1\n",
              "1          1  ...     0\n",
              "2          2  ...     1\n",
              "3          3  ...     1\n",
              "4          4  ...     1\n",
              "...      ...  ...   ...\n",
              "20790  20790  ...     0\n",
              "20791  20791  ...     1\n",
              "20792  20792  ...     0\n",
              "20793  20793  ...     1\n",
              "20794  20794  ...     0\n",
              "\n",
              "[20795 rows x 5 columns]"
            ]
          },
          "metadata": {
            "tags": []
          },
          "execution_count": 38
        }
      ]
    },
    {
      "cell_type": "markdown",
      "metadata": {
        "id": "jRbMpsRhr9-4"
      },
      "source": [
        "#Text preprocessing\n",
        "\n",
        "Remove stopwords, do stemming, convert upper case to lower case, remove special characters and digits"
      ]
    },
    {
      "cell_type": "code",
      "metadata": {
        "colab": {
          "base_uri": "https://localhost:8080/",
          "height": 35
        },
        "id": "fZve3li5rjyX",
        "outputId": "c3f166c2-dfbd-4a5f-edad-5807e88eac8a"
      },
      "source": [
        "#Initialize the PorterStemmer()\n",
        "ps = PorterStemmer()\n",
        "#Loop through the corpus to substitute non-characters, convert text to lowercase,\n",
        "#split the text and remove the stopowords\n",
        "corpus = []\n",
        "for i in range(0, len(df)):\n",
        "    review = re.sub('[^a-zA-Z]', ' ', str(df['title'][i])) #substitute non-characters\n",
        "    review = review.lower() #convert to lower case\n",
        "    review = review.split()\n",
        "    \n",
        "    review = [ps.stem(word) for word in review if not word in stopwords.words('english')] #remove stopwords\n",
        "    review = ' '.join(review)\n",
        "    corpus.append(review)\n",
        "#Check text in index 3 in corpus\n",
        "corpus[3]"
      ],
      "execution_count": null,
      "outputs": [
        {
          "output_type": "execute_result",
          "data": {
            "application/vnd.google.colaboratory.intrinsic+json": {
              "type": "string"
            },
            "text/plain": [
              "'civilian kill singl us airstrik identifi'"
            ]
          },
          "metadata": {
            "tags": []
          },
          "execution_count": 39
        }
      ]
    },
    {
      "cell_type": "code",
      "metadata": {
        "colab": {
          "base_uri": "https://localhost:8080/"
        },
        "id": "8gj65A0C5Pq2",
        "outputId": "b577706a-5476-4737-d322-a63cb22d3132"
      },
      "source": [
        "len(corpus)"
      ],
      "execution_count": null,
      "outputs": [
        {
          "output_type": "execute_result",
          "data": {
            "text/plain": [
              "20800"
            ]
          },
          "metadata": {
            "tags": []
          },
          "execution_count": 40
        }
      ]
    },
    {
      "cell_type": "code",
      "metadata": {
        "id": "Q94xYDyx3ZYC"
      },
      "source": [
        ""
      ],
      "execution_count": null,
      "outputs": []
    },
    {
      "cell_type": "code",
      "metadata": {
        "id": "IorvrrPqcE0o",
        "colab": {
          "base_uri": "https://localhost:8080/"
        },
        "outputId": "a400f440-66d2-4852-a451-df7a2e147769"
      },
      "source": [
        "y=df['label']\n",
        "type(y)"
      ],
      "execution_count": null,
      "outputs": [
        {
          "output_type": "execute_result",
          "data": {
            "text/plain": [
              "pandas.core.series.Series"
            ]
          },
          "metadata": {
            "tags": []
          },
          "execution_count": 41
        }
      ]
    },
    {
      "cell_type": "code",
      "metadata": {
        "id": "4mTsffsv4WoL"
      },
      "source": [
        "# from sklearn.model_selection import train_test_split\n",
        "# X_train, X_test, y_train, y_test = train_test_split(corpus, y, test_size=0.33, random_state=0)"
      ],
      "execution_count": null,
      "outputs": []
    },
    {
      "cell_type": "code",
      "metadata": {
        "id": "qSP-smMvcMeR"
      },
      "source": [
        "# len(X_train), len(X_test), y_train.shape, y_test.shape"
      ],
      "execution_count": null,
      "outputs": []
    },
    {
      "cell_type": "markdown",
      "metadata": {
        "id": "5Lh7zOEVxZom"
      },
      "source": [
        "#Applying CountVectorizer\n"
      ]
    },
    {
      "cell_type": "markdown",
      "metadata": {
        "id": "hD4LDxVf6zGa"
      },
      "source": [
        "#1: Creating the Bag of Words model"
      ]
    },
    {
      "cell_type": "code",
      "metadata": {
        "id": "xEdBAbCIuQV4"
      },
      "source": [
        "# from sklearn.feature_extraction.text import CountVectorizer\n",
        "# cv = CountVectorizer(max_features=5000, ngram_range=(1,3))\n",
        "# X = cv.fit_transform(corpus).toarray()\n",
        "# y=df['label']\n",
        "# #divide the data into test and train\n",
        "# from sklearn.model_selection import train_test_split\n",
        "# X_train, X_test, y_train, y_test = train_test_split(X, y, test_size=0.33, random_state=0)\n",
        "# X_train[0:2]"
      ],
      "execution_count": null,
      "outputs": []
    },
    {
      "cell_type": "code",
      "metadata": {
        "id": "k2A_PuzzbmvJ"
      },
      "source": [
        "# def get_top_ngram(corpus, n=None):\n",
        "#     vec = CountVectorizer(ngram_range=(n, n)).fit(corpus)\n",
        "#     bag_of_words = vec.transform(corpus)\n",
        "#     sum_words = bag_of_words.sum(axis=0) \n",
        "#     words_freq = [(word, sum_words[0, idx]) \n",
        "#                   for word, idx in vec.vocabulary_.items()]\n",
        "#     words_freq =sorted(words_freq, key = lambda x: x[1], reverse=True)\n",
        "#     return words_freq[:10]"
      ],
      "execution_count": null,
      "outputs": []
    },
    {
      "cell_type": "markdown",
      "metadata": {
        "id": "_AWR1PtOQK6I"
      },
      "source": [
        "## 2. Applying tfidf"
      ]
    },
    {
      "cell_type": "code",
      "metadata": {
        "id": "0OSypzlCPNM6"
      },
      "source": [
        "# ## TFidf Vectorizer\n",
        "# y2=df['label']\n",
        "# from sklearn.feature_extraction.text import TfidfVectorizer\n",
        "# tfidf_v=TfidfVectorizer(max_features=5000,ngram_range=(1,3))\n",
        "# X2=tfidf_v.fit_transform(corpus).toarray()\n",
        "# ## Divide the dataset into Train and Test\n",
        "# from sklearn.model_selection import train_test_split\n",
        "# X2_train, X2_test, y2_train, y2_test = train_test_split(X2, y2, test_size=0.33, random_state=0)\n",
        "# tfidf_v.get_feature_names()[:20]\n",
        "# tfidf_v.get_params()\n",
        "# count_df2 = pd.DataFrame(X2_train, columns=tfidf_v.get_feature_names())\n",
        "# count_df2.head()"
      ],
      "execution_count": null,
      "outputs": []
    },
    {
      "cell_type": "markdown",
      "metadata": {
        "id": "tfZRzLyoSkiS"
      },
      "source": [
        "## Applying Word embedding - Word2Vec"
      ]
    },
    {
      "cell_type": "code",
      "metadata": {
        "id": "bPLsRtHVSj72"
      },
      "source": [
        "# from gensim.models import Word2Vec\n",
        "\n",
        "# word2vec = Word2Vec(corpus, min_count=2)"
      ],
      "execution_count": null,
      "outputs": []
    },
    {
      "cell_type": "code",
      "metadata": {
        "id": "f03WMvwtSk8G"
      },
      "source": [
        "# vocabulary = word2vec.wv.vocab\n",
        "# print(vocabulary)"
      ],
      "execution_count": null,
      "outputs": []
    },
    {
      "cell_type": "markdown",
      "metadata": {
        "id": "-q7CcEbv57O2"
      },
      "source": [
        "#Customized code for Confusion Matrix"
      ]
    },
    {
      "cell_type": "code",
      "metadata": {
        "id": "5kme56jM1d8k"
      },
      "source": [
        "# def plot_confusion_matrix(cm, classes,\n",
        "#                           normalize=False,\n",
        "#                           title='Confusion matrix',\n",
        "#                           cmap=plt.cm.Blues):\n",
        "#     \"\"\"\n",
        "#     See full source and example: \n",
        "#     http://scikit-learn.org/stable/auto_examples/model_selection/plot_confusion_matrix.html\n",
        "    \n",
        "#     This function prints and plots the confusion matrix.\n",
        "#     Normalization can be applied by setting `normalize=True`.\n",
        "#     \"\"\"\n",
        "#     plt.imshow(cm, interpolation='nearest', cmap=cmap)\n",
        "#     plt.title(title)\n",
        "#     plt.colorbar()\n",
        "#     tick_marks = np.arange(len(classes))\n",
        "#     plt.xticks(tick_marks, classes, rotation=45)\n",
        "#     plt.yticks(tick_marks, classes)\n",
        "\n",
        "#     if normalize:\n",
        "#         cm = cm.astype('float') / cm.sum(axis=1)[:, np.newaxis]\n",
        "#         print(\"Normalized confusion matrix\")\n",
        "#     else:\n",
        "#         print('Confusion matrix, without normalization')\n",
        "\n",
        "#     thresh = cm.max() / 2.\n",
        "#     for i, j in itertools.product(range(cm.shape[0]), range(cm.shape[1])):\n",
        "#         plt.text(j, i, cm[i, j],\n",
        "#                  horizontalalignment=\"center\",\n",
        "#                  color=\"white\" if cm[i, j] > thresh else \"black\")\n",
        "\n",
        "#     plt.tight_layout()\n",
        "#     plt.ylabel('True label')\n",
        "#     plt.xlabel('Predicted label')"
      ],
      "execution_count": null,
      "outputs": []
    },
    {
      "cell_type": "markdown",
      "metadata": {
        "id": "fZydZa7i17dz"
      },
      "source": [
        "# Machine learning models with bag of words"
      ]
    },
    {
      "cell_type": "markdown",
      "metadata": {
        "id": "LfJLXorY1_96"
      },
      "source": [
        "## 1):Multinomial Naive Bayes"
      ]
    },
    {
      "cell_type": "markdown",
      "metadata": {
        "id": "o3IuW0jNEUCU"
      },
      "source": [
        "With BOW"
      ]
    },
    {
      "cell_type": "code",
      "metadata": {
        "id": "kvwdYcU3ES-1"
      },
      "source": [
        "# #Initialize the multinomialNB classifier\n",
        "# classifier = MultinomialNB()\n",
        "# #Fit the classifier\n",
        "# classifier.fit(X_train, y_train)\n",
        "# #Predict for the X_test\n",
        "# predNB1 = classifier.predict(X_test)\n",
        "# #obtain the accuracy\n",
        "# accuracy = accuracy_score(y_test, predNB1 )\n",
        "# #obtain the precision\n",
        "# precision = precision_score(y_test, predNB1 , average='weighted')\n",
        "# #obtain the recall\n",
        "# recall = recall_score(y_test, predNB1 , average='weighted')\n",
        "# #obtain the f1\n",
        "# f1 = f1_score(y_test, predNB1 , average='weighted')\n",
        "# #Print accuracy, precision, recall and f1\n",
        "# print(\"accuracy = %.3f, precision = %.3f, recall = %.3f, f1 = %.3f\" % (accuracy, precision, recall, f1))"
      ],
      "execution_count": null,
      "outputs": []
    },
    {
      "cell_type": "code",
      "metadata": {
        "id": "GJZCaQvWETCf"
      },
      "source": [
        "# #compute the confusion matrix\n",
        "# cm=metrics.confusion_matrix(y_test, predNB1)\n",
        "# #plot the confusion matrix\n",
        "# plot_confusion_matrix(cm, classes=['FAKE DATA', 'REAL DATA'])"
      ],
      "execution_count": null,
      "outputs": []
    },
    {
      "cell_type": "code",
      "metadata": {
        "id": "0DwCwnxyFE3x"
      },
      "source": [
        "# #Initialize the multinomialNB classifier\n",
        "# classifier2NB=MultinomialNB()\n",
        "# #Fit the classifier\n",
        "# classifier2NB.fit(X2_train,y2_train)\n",
        "# predNB2=classifier2NB.predict(X2_test)\n",
        "# #obtain the accuracy\n",
        "# accuracy = accuracy_score(y_test, predNB2)\n",
        "# #obtain the precision\n",
        "# precision = precision_score(y_test, predNB2 , average='weighted')\n",
        "# #obtain the recall\n",
        "# recall = recall_score(y_test, predNB2 , average='weighted')\n",
        "# #obtain the f1\n",
        "# f1 = f1_score(y_test, predNB2 , average='weighted')\n",
        "# #Print accuracy, precision, recall and f1\n",
        "# print(\"accuracy = %.3f, precision = %.3f, recall = %.3f, f1 = %.3f\" % (accuracy, precision, recall, f1))"
      ],
      "execution_count": null,
      "outputs": []
    },
    {
      "cell_type": "code",
      "metadata": {
        "id": "jBJMnQ74ETW2"
      },
      "source": [
        "# #compute the confusion matrix\n",
        "# cm=metrics.confusion_matrix(y_test, predNB2)\n",
        "# #plot the confusion matrix\n",
        "# plot_confusion_matrix(cm, classes=['FAKE DATA', 'REAL DATA'])"
      ],
      "execution_count": null,
      "outputs": []
    },
    {
      "cell_type": "markdown",
      "metadata": {
        "id": "dxxuguXQBvZe"
      },
      "source": [
        "## Multinomial Classifier with Hyperparameter"
      ]
    },
    {
      "cell_type": "code",
      "metadata": {
        "id": "lV9yX13-_DLJ"
      },
      "source": [
        "# classifier=MultinomialNB(alpha=0.1)"
      ],
      "execution_count": null,
      "outputs": []
    },
    {
      "cell_type": "code",
      "metadata": {
        "id": "5qi0Qx-rCBdE"
      },
      "source": [
        "# previous_score=0\n",
        "# for alpha in np.arange(0,1,0.1):\n",
        "#     sub_classifier=MultinomialNB(alpha=alpha)\n",
        "#     sub_classifier.fit(X_train,y_train)\n",
        "#     y_pred=sub_classifier.predict(X_test)\n",
        "#     score = metrics.accuracy_score(y_test, y_pred)\n",
        "#     if score>previous_score:\n",
        "#         classifier=sub_classifier\n",
        "#     print(\"Alpha: {}, Score : {}\".format(alpha,score))"
      ],
      "execution_count": null,
      "outputs": []
    },
    {
      "cell_type": "code",
      "metadata": {
        "id": "qNT5PY5lCHPg"
      },
      "source": [
        "# #Check the feature names\n",
        "# feature_names = cv.get_feature_names()\n",
        "# #check the coefficient\n",
        "# classifier.coef_[0]"
      ],
      "execution_count": null,
      "outputs": []
    },
    {
      "cell_type": "code",
      "metadata": {
        "id": "fh6rtRimCbo-"
      },
      "source": [
        "# ## Obtain the  Most real words\n",
        "# sorted(zip(classifier.coef_[0], feature_names), reverse=True)[:10]"
      ],
      "execution_count": null,
      "outputs": []
    },
    {
      "cell_type": "code",
      "metadata": {
        "id": "uZjQfjzsCw3s"
      },
      "source": [
        "# ### Obtain the Most fake words\n",
        "# sorted(zip(classifier.coef_[0], feature_names))[:10]"
      ],
      "execution_count": null,
      "outputs": []
    },
    {
      "cell_type": "markdown",
      "metadata": {
        "id": "0hnaD8lo_8Gb"
      },
      "source": [
        "## Model 2"
      ]
    },
    {
      "cell_type": "markdown",
      "metadata": {
        "id": "HwFFG7Hf_8hT"
      },
      "source": [
        "## 2) Passive Aggressive Classifier **Algorithm**"
      ]
    },
    {
      "cell_type": "markdown",
      "metadata": {
        "id": "s88MNAg-Cf2_"
      },
      "source": [
        "With BOW"
      ]
    },
    {
      "cell_type": "code",
      "metadata": {
        "id": "2guoonpOChfo"
      },
      "source": [
        "# #Initialize the PassiveAggressiveClassifier\n",
        "# linear_clf1 = PassiveAggressiveClassifier()\n",
        "# #Fit the PassiveAggressiveClassifier\n",
        "# linear_clf1.fit(X_train, y_train)\n",
        "# #Predict using the test set\n",
        "# pred_pass1  = linear_clf1.predict(X_test)\n",
        "# #obtain the accuracy\n",
        "# accuracy = accuracy_score(y_test, pred_pass1 )\n",
        "# #obtain the precision\n",
        "# precision = precision_score(y_test, pred_pass1 , average='weighted')\n",
        "# #obtain the recall\n",
        "# recall = recall_score(y_test, pred_pass1 , average='weighted')\n",
        "# #obtain the f1\n",
        "# f1 = f1_score(y_test, pred_pass1 , average='weighted')\n",
        "# #Print accuracy, precision, recall and f1\n",
        "# print(\"accuracy = %.3f, precision = %.3f, recall = %.3f, f1 = %.3f\" % (accuracy, precision, recall, f1))"
      ],
      "execution_count": null,
      "outputs": []
    },
    {
      "cell_type": "code",
      "metadata": {
        "id": "Lk1GM2lsDwm7"
      },
      "source": [
        "# #compute the confusion matrix\n",
        "# cm=metrics.confusion_matrix(y_test, pred_pass1)\n",
        "# #plot the confusion matrix\n",
        "# plot_confusion_matrix(cm, classes=['FAKE DATA', 'REAL DATA'])"
      ],
      "execution_count": null,
      "outputs": []
    },
    {
      "cell_type": "markdown",
      "metadata": {
        "id": "53jOIaN9D_gt"
      },
      "source": [
        "With TD-IDF"
      ]
    },
    {
      "cell_type": "code",
      "metadata": {
        "id": "U92BLWTCCjKD"
      },
      "source": [
        "# #Initialize the PassiveAggressiveClassifier\n",
        "# linear_clf2 = PassiveAggressiveClassifier()\n",
        "# #Fit the PassiveAggressiveClassifier\n",
        "# linear_clf2.fit(X2_train, y2_train)\n",
        "# #Predict using the test set\n",
        "# pred_pass2  = linear_clf2.predict(X2_test)\n",
        "# #obtain the accuracy\n",
        "# accuracy = accuracy_score(y_test, pred_pass2 )\n",
        "# #obtain the precision\n",
        "# precision = precision_score(y_test, pred_pass2 , average='weighted')\n",
        "# #obtain the recall\n",
        "# recall = recall_score(y_test, pred_pass2 , average='weighted')\n",
        "# #obtain the f1\n",
        "# f1 = f1_score(y_test, pred_pass2 , average='weighted')\n",
        "# #Print accuracy, precision, recall and f1\n",
        "# print(\"accuracy = %.3f, precision = %.3f, recall = %.3f, f1 = %.3f\" % (accuracy, precision, recall, f1))"
      ],
      "execution_count": null,
      "outputs": []
    },
    {
      "cell_type": "code",
      "metadata": {
        "id": "YnsVzX51DsMD"
      },
      "source": [
        "# #compute the confusion matrix\n",
        "# cm=metrics.confusion_matrix(y_test, pred_pass2)\n",
        "# #plot the confusion matrix\n",
        "# plot_confusion_matrix(cm, classes=['FAKE DATA', 'REAL DATA'])"
      ],
      "execution_count": null,
      "outputs": []
    },
    {
      "cell_type": "markdown",
      "metadata": {
        "id": "XIGzsiQ0ArZE"
      },
      "source": [
        "## Model 3"
      ]
    },
    {
      "cell_type": "markdown",
      "metadata": {
        "id": "r6oA8BnrnU8e"
      },
      "source": [
        "# 3. Logistics Regression"
      ]
    },
    {
      "cell_type": "markdown",
      "metadata": {
        "id": "Be-VEqS5BeFn"
      },
      "source": [
        "With BOW"
      ]
    },
    {
      "cell_type": "code",
      "metadata": {
        "id": "eO4VaoTZmmq9"
      },
      "source": [
        "# logreg = LogisticRegression()\n",
        "# logreg.fit(X_train, y_train)\n",
        "# pred = logreg.predict(X_test)\n",
        "# accuracy = accuracy_score(y_test, pred)\n",
        "# precision = precision_score(y_test, pred, average='weighted')\n",
        "# recall = recall_score(y_test, pred, average='weighted')\n",
        "# f1 = f1_score(y_test, pred, average='weighted')\n",
        "# print(\"accuracy = %.3f, precision = %.3f, recall = %.3f, f1 = %.3f\" % (accuracy, precision, recall, f1))"
      ],
      "execution_count": null,
      "outputs": []
    },
    {
      "cell_type": "code",
      "metadata": {
        "id": "Ag7SNSgkB2OA"
      },
      "source": [
        "# #compute the confusion matrix\n",
        "# cm=metrics.confusion_matrix(y_test, pred)\n",
        "# #plot the confusion matrix\n",
        "# plot_confusion_matrix(cm, classes=['FAKE DATA', 'REAL DATA'])"
      ],
      "execution_count": null,
      "outputs": []
    },
    {
      "cell_type": "markdown",
      "metadata": {
        "id": "4lE-_PKABgLM"
      },
      "source": [
        "With TF-IDF"
      ]
    },
    {
      "cell_type": "code",
      "metadata": {
        "id": "Zc6VGZ7ymmud"
      },
      "source": [
        "# logreg = LogisticRegression()\n",
        "# logreg.fit(X2_train, y2_train)\n",
        "# pred2 = logreg.predict(X2_test)\n",
        "# accuracy2 = accuracy_score(y2_test, pred2)\n",
        "# precision2 = precision_score(y_test, pred2, average='weighted')\n",
        "# recall2 = recall_score(y2_test, pred2, average='weighted')\n",
        "# f12 = f1_score(y_test, pred, average='weighted')\n",
        "# print(\"accuracy = %.3f, precision = %.3f, recall = %.3f, f1 = %.3f\" % (accuracy2, precision2, recall2, f12))"
      ],
      "execution_count": null,
      "outputs": []
    },
    {
      "cell_type": "code",
      "metadata": {
        "id": "n_-7jw19CW89"
      },
      "source": [
        "# #compute the confusion matrix\n",
        "# cm2=metrics.confusion_matrix(y_test, pred2)\n",
        "# #plot the confusion matrix\n",
        "# plot_confusion_matrix(cm2, classes=['FAKE DATA', 'REAL DATA'])"
      ],
      "execution_count": null,
      "outputs": []
    },
    {
      "cell_type": "markdown",
      "metadata": {
        "id": "5QKBAPqipErp"
      },
      "source": [
        "## 4. Support Vector Machine (SVM)"
      ]
    },
    {
      "cell_type": "markdown",
      "metadata": {
        "id": "OLjUatrHYcA3"
      },
      "source": [
        "With BOW"
      ]
    },
    {
      "cell_type": "code",
      "metadata": {
        "id": "hiMtL5k8mrA0"
      },
      "source": [
        "# from sklearn import svm\n",
        "# # Classifier - Algorithm - SVM\n",
        "# # fit the training dataset on the classifier\n",
        "# SVM = svm.SVC(C=1.0, kernel='linear', degree=3, gamma='auto')\n",
        "# SVM.fit(X_train, y_train)\n",
        "# # predict the labels on validation dataset\n",
        "# predictions_SVM = SVM.predict(X_test)\n",
        "# # Use accuracy_score function to get the accuracy\n",
        "# accuracy = accuracy_score(y_test, predictions_SVM)\n",
        "# precision = precision_score(y_test, predictions_SVM, average='weighted')\n",
        "# recall = recall_score(y_test, predictions_SVM, average='weighted')\n",
        "# f1 = f1_score(y_test, predictions_SVM, average='weighted')\n",
        "# print(\"accuracy = %.3f, precision = %.3f, recall = %.3f, f1 = %.3f\" % (accuracy, precision, recall, f1))"
      ],
      "execution_count": null,
      "outputs": []
    },
    {
      "cell_type": "code",
      "metadata": {
        "id": "gnvkxd5nZfN_"
      },
      "source": [
        "# #compute the confusion matrix\n",
        "# cm=metrics.confusion_matrix(y_test, predictions_SVM)\n",
        "# #plot the confusion matrix\n",
        "# plot_confusion_matrix(cm, classes=['FAKE DATA', 'REAL DATA'])"
      ],
      "execution_count": null,
      "outputs": []
    },
    {
      "cell_type": "markdown",
      "metadata": {
        "id": "xACOLQyNYhZu"
      },
      "source": [
        "With TF-IDF"
      ]
    },
    {
      "cell_type": "code",
      "metadata": {
        "id": "24q0IYX-YjMf"
      },
      "source": [
        "# # Classifier - Algorithm - SVM\n",
        "# SVM = svm.SVC(C=1.0, kernel='linear', degree=3, gamma='auto')\n",
        "# # fit the training dataset on the classifier\n",
        "# SVM.fit(X2_train, y2_train)\n",
        "# # predict the labels on validation dataset\n",
        "# predictions_SVM2 = SVM.predict(X2_test)\n",
        "# # Use accuracy_score function to get the accuracy\n",
        "# accuracy2 = accuracy_score(y2_test, predictions_SVM2)\n",
        "# precision2 = precision_score(y2_test, predictions_SVM2, average='weighted')\n",
        "# recall2 = recall_score(y2_test, predictions_SVM2, average='weighted')\n",
        "# f12 = f1_score(y2_test, predictions_SVM2, average='weighted')\n",
        "# print(\"accuracy = %.3f, precision = %.3f, recall = %.3f, f1 = %.3f\" % (accuracy2, precision2, recall2, f12))"
      ],
      "execution_count": null,
      "outputs": []
    },
    {
      "cell_type": "code",
      "metadata": {
        "id": "8Dw2pvC9YZ1V"
      },
      "source": [
        "# #compute the confusion matrix\n",
        "# cm2=metrics.confusion_matrix(y_test, predictions_SVM2)\n",
        "# #plot the confusion matrix\n",
        "# plot_confusion_matrix(cm2, classes=['FAKE DATA', 'REAL DATA'])"
      ],
      "execution_count": null,
      "outputs": []
    },
    {
      "cell_type": "markdown",
      "metadata": {
        "id": "VS9ZKj6JKXzo"
      },
      "source": [
        "## 5. Random Forest"
      ]
    },
    {
      "cell_type": "markdown",
      "metadata": {
        "id": "DXniFlJseRoB"
      },
      "source": [
        "With BOW"
      ]
    },
    {
      "cell_type": "code",
      "metadata": {
        "id": "J_Zyc-5pmrmz"
      },
      "source": [
        "# from sklearn.ensemble import RandomForestClassifier,BaggingClassifier,ExtraTreesClassifier\n",
        "# from sklearn.tree import DecisionTreeClassifier\n",
        "# rf = RandomForestClassifier(random_state=42)\n",
        "# rf.fit(X_train,y_train)"
      ],
      "execution_count": null,
      "outputs": []
    },
    {
      "cell_type": "code",
      "metadata": {
        "id": "CR8b-1BomrqK"
      },
      "source": [
        "# print(\"Train Score on BOW: \", round(rf.score(X_test,y_test),4))"
      ],
      "execution_count": null,
      "outputs": []
    },
    {
      "cell_type": "markdown",
      "metadata": {
        "id": "Zm9SsVJKeUgH"
      },
      "source": [
        "With TF-IDF"
      ]
    },
    {
      "cell_type": "code",
      "metadata": {
        "id": "1Q1iRSFaeEdX"
      },
      "source": [
        "# rf2 = RandomForestClassifier(random_state=42)\n",
        "# rf2.fit(X2_train ,y2_train)"
      ],
      "execution_count": null,
      "outputs": []
    },
    {
      "cell_type": "code",
      "metadata": {
        "id": "outAEog8eJEG"
      },
      "source": [
        "# print(\"Train Score on TF-IDF: \", round(rf.score(X2_test,y2_test),4))"
      ],
      "execution_count": null,
      "outputs": []
    },
    {
      "cell_type": "markdown",
      "metadata": {
        "id": "BQ_XEolYj1M_"
      },
      "source": [
        "## 6. Gradient Boosting classifier"
      ]
    },
    {
      "cell_type": "markdown",
      "metadata": {
        "id": "9LDYPl1Xgl-G"
      },
      "source": [
        "With BOW"
      ]
    },
    {
      "cell_type": "code",
      "metadata": {
        "id": "QD9wwrgmmumZ"
      },
      "source": [
        "# from sklearn.ensemble import GradientBoostingClassifier\n",
        "# # Create a classifier\n",
        "# gdf_classifier = MultinomialNB() \n",
        "# gdf_classifier=GradientBoostingClassifier(learning_rate = 0.1,\n",
        "#                                      max_depth = 3,\n",
        "#                                      min_samples_leaf = 5,\n",
        "#                                      min_samples_split = 4,\n",
        "#                                      n_estimators = 100,\n",
        "#                                      random_state=42)"
      ],
      "execution_count": null,
      "outputs": []
    },
    {
      "cell_type": "code",
      "metadata": {
        "id": "AXS7_291mupy"
      },
      "source": [
        "# gdf_classifier.fit(X_train,y_train)"
      ],
      "execution_count": null,
      "outputs": []
    },
    {
      "cell_type": "code",
      "metadata": {
        "id": "56g3CLFXi_lc"
      },
      "source": [
        "# predictions_gdf = gdf_classifier.predict(X_test)\n",
        "# # Use accuracy_score function to get the accuracy\n",
        "# accuracy = accuracy_score(y_test, predictions_gdf)\n",
        "# precision = precision_score(y_test, predictions_gdf, average='weighted')\n",
        "# recall = recall_score(y_test, predictions_gdf, average='weighted')\n",
        "# f1 = f1_score(y_test, predictions_gdf, average='weighted')\n",
        "# print(\"accuracy = %.3f, precision = %.3f, recall = %.3f, f1 = %.3f\" % (accuracy, precision, recall, f1))"
      ],
      "execution_count": null,
      "outputs": []
    },
    {
      "cell_type": "markdown",
      "metadata": {
        "id": "KbhasPi_gprm"
      },
      "source": [
        "With TF-IDF"
      ]
    },
    {
      "cell_type": "code",
      "metadata": {
        "id": "353TDzLjg6sm"
      },
      "source": [
        "# gdf_classifier2 = MultinomialNB() \n",
        "# gdf_classifier2=GradientBoostingClassifier(learning_rate = 0.1,\n",
        "#                                      max_depth = 3,\n",
        "#                                      min_samples_leaf = 5,\n",
        "#                                      min_samples_split = 4,\n",
        "#                                      n_estimators = 100,\n",
        "#                                      random_state=42)"
      ],
      "execution_count": null,
      "outputs": []
    },
    {
      "cell_type": "code",
      "metadata": {
        "id": "9C6GQm8Hj-z0"
      },
      "source": [
        "# gdf_classifier2.fit(X_train,y_train)"
      ],
      "execution_count": null,
      "outputs": []
    },
    {
      "cell_type": "code",
      "metadata": {
        "id": "e8e1yK07gr8q"
      },
      "source": [
        "# predictions_gdf2 = gdf_classifier2.predict(X_test)\n",
        "# # Use accuracy_score function to get the accuracy\n",
        "# accuracy2 = accuracy_score(y2_test, predictions_gdf2)\n",
        "# precision2 = precision_score(y2_test, predictions_gdf2, average='weighted')\n",
        "# recall2 = recall_score(y2_test, predictions_gdf2, average='weighted')\n",
        "# f12 = f1_score(y2_test, predictions_gdf2, average='weighted')\n",
        "# print(\"accuracy = %.3f, precision = %.3f, recall = %.3f, f1 = %.3f\" % (accuracy2, precision2, recall2, f12))"
      ],
      "execution_count": null,
      "outputs": []
    },
    {
      "cell_type": "markdown",
      "metadata": {
        "id": "5J5-41Hyn6vR"
      },
      "source": [
        "## 7. Xgboost"
      ]
    },
    {
      "cell_type": "markdown",
      "metadata": {
        "id": "O5HpDaUJhDAY"
      },
      "source": [
        "With BOW"
      ]
    },
    {
      "cell_type": "code",
      "metadata": {
        "id": "j3JwuS-deSbK"
      },
      "source": [
        "# import xgboost as xgb\n",
        "# # Create a classifier\n",
        "# xg_classifier = xgb.XGBClassifier(max_depth=10, n_estimators=80, learning_rate=0.11, colsample_bytree=.7, \n",
        "#                                                  gamma=.01, reg_alpha=4)"
      ],
      "execution_count": null,
      "outputs": []
    },
    {
      "cell_type": "code",
      "metadata": {
        "id": "Jhn_rY1MfBlg"
      },
      "source": [
        "# # # train the news_classifier \n",
        "# xg_classifier.fit(X_train,y_train)"
      ],
      "execution_count": null,
      "outputs": []
    },
    {
      "cell_type": "code",
      "metadata": {
        "id": "B-kCw_2Zh6jg"
      },
      "source": [
        "# predictions_xgb = xg_classifier.predict(X_test)\n",
        "# # Use accuracy_score function to get the accuracy\n",
        "# accuracy = accuracy_score(y_test, predictions_xgb)\n",
        "# precision = precision_score(y_test, predictions_xgb, average='weighted')\n",
        "# recall = recall_score(y_test, predictions_xgb, average='weighted')\n",
        "# f1 = f1_score(y_test, predictions_xgb, average='weighted')\n",
        "# print(\"accuracy = %.3f, precision = %.3f, recall = %.3f, f1 = %.3f\" % (accuracy, precision, recall, f1))"
      ],
      "execution_count": null,
      "outputs": []
    },
    {
      "cell_type": "markdown",
      "metadata": {
        "id": "Fbl6yxBdhGLH"
      },
      "source": [
        "With TF-IDF"
      ]
    },
    {
      "cell_type": "code",
      "metadata": {
        "id": "de6rMypieSn1"
      },
      "source": [
        "# import xgboost as xgb\n",
        "# xg2_classifier = xgb.XGBClassifier(max_depth=10, n_estimators=80, learning_rate=0.11, colsample_bytree=.7, \n",
        "#                                                  gamma=.01, reg_alpha=4)"
      ],
      "execution_count": null,
      "outputs": []
    },
    {
      "cell_type": "code",
      "metadata": {
        "id": "FH0waQ6VeSre"
      },
      "source": [
        "# xg2_classifier.fit(X2_train,y2_train)"
      ],
      "execution_count": null,
      "outputs": []
    },
    {
      "cell_type": "code",
      "metadata": {
        "id": "oC47GxNBToDy"
      },
      "source": [
        "# predictions_xgb2 = xg2_classifier.predict(X_test)\n",
        "# # Use accuracy_score function to get the accuracy\n",
        "# accuracy2 = accuracy_score(y2_test, predictions_xgb2)\n",
        "# precision2 = precision_score(y2_test, predictions_xgb2, average='weighted')\n",
        "# recall2 = recall_score(y2_test, predictions_xgb2, average='weighted')\n",
        "# f12 = f1_score(y2_test, predictions_xgb2, average='weighted')\n",
        "# print(\"accuracy = %.3f, precision = %.3f, recall = %.3f, f1 = %.3f\" % (accuracy2, precision2, recall2, f12))"
      ],
      "execution_count": null,
      "outputs": []
    },
    {
      "cell_type": "markdown",
      "metadata": {
        "id": "TzfRvv_LTobb"
      },
      "source": [
        "## 8. Deep Artificial Neural Network"
      ]
    },
    {
      "cell_type": "markdown",
      "metadata": {
        "id": "GOutomt26ybp"
      },
      "source": [
        "With TF-IDF"
      ]
    },
    {
      "cell_type": "markdown",
      "metadata": {
        "id": "PVCqiBqlSSSL"
      },
      "source": [
        "With one-hot encoding"
      ]
    },
    {
      "cell_type": "code",
      "metadata": {
        "id": "OhlSIW4xqkWP"
      },
      "source": [
        "# from tensorflow.keras.layers import Embedding\n",
        "# from tensorflow.keras.preprocessing.sequence import pad_sequences\n",
        "# from tensorflow.keras.preprocessing.text import one_hot\n",
        "# ### Vocabulary size\n",
        "# voc_size=5000\n",
        "# #one  hot representation\n",
        "\n",
        "# onehot_repr=[one_hot(words,voc_size)for words in corpus] \n",
        "# #Panding\n",
        "# sent_length=20\n",
        "# embedded_docs=pad_sequences(onehot_repr,padding='pre',maxlen=sent_length)\n",
        "# print(embedded_docs)"
      ],
      "execution_count": null,
      "outputs": []
    },
    {
      "cell_type": "code",
      "metadata": {
        "id": "jbYBKwe5qVLW"
      },
      "source": [
        "# import numpy as np\n",
        "# X_final=np.array(embedded_docs)\n",
        "# y_final=np.array(y)\n",
        "# #splitting\n",
        "# from sklearn.model_selection import train_test_split\n",
        "# X_train, X_test, y_train, y_test = train_test_split(X_final, y_final, test_size=0.33, random_state=42)"
      ],
      "execution_count": null,
      "outputs": []
    },
    {
      "cell_type": "code",
      "metadata": {
        "id": "HoI6BmaXTudq"
      },
      "source": [
        "# from keras.models import Sequential\n",
        "# from keras import layers\n",
        "\n",
        "# input_dim = X_train.shape[1]  # Number of features\n",
        "\n",
        "# model = Sequential()\n",
        "# model.add(layers.Dense(10, input_dim=input_dim, activation='relu'))\n",
        "# model.add(layers.Dense(10, input_dim=input_dim, activation='relu'))\n",
        "# model.add(layers.Dense(10, input_dim=input_dim, activation='relu'))\n",
        "# model.add(layers.Dense(10, input_dim=input_dim, activation='relu'))\n",
        "# model.add(layers.Dense(1, activation='sigmoid'))"
      ],
      "execution_count": null,
      "outputs": []
    },
    {
      "cell_type": "code",
      "metadata": {
        "id": "8zpXEC1ATuhC"
      },
      "source": [
        "# model.compile(loss='binary_crossentropy', optimizer='adam', metrics=['accuracy'])\n",
        "# model.summary()"
      ],
      "execution_count": null,
      "outputs": []
    },
    {
      "cell_type": "code",
      "metadata": {
        "id": "Rhus-C25UGZP"
      },
      "source": [
        "# model.fit(X_train, y_train,epochs=10,verbose=False,validation_data=(X_test, y_test), batch_size=10)"
      ],
      "execution_count": null,
      "outputs": []
    },
    {
      "cell_type": "code",
      "metadata": {
        "id": "rPEk2zRfMei-"
      },
      "source": [
        "# #performance metrics and accuracy\n",
        "# y_pred=model.predict_classes(X_test)"
      ],
      "execution_count": null,
      "outputs": []
    },
    {
      "cell_type": "code",
      "metadata": {
        "id": "sS0RcMxCMkNA"
      },
      "source": [
        "# from sklearn.metrics import confusion_matrix\n",
        "# confusion_matrix(y_test,y_pred)"
      ],
      "execution_count": null,
      "outputs": []
    },
    {
      "cell_type": "code",
      "metadata": {
        "id": "sq4BiqFEMkvG"
      },
      "source": [
        "# from sklearn.metrics import accuracy_score\n",
        "# accuracy_score(y_test,y_pred)"
      ],
      "execution_count": null,
      "outputs": []
    },
    {
      "cell_type": "code",
      "metadata": {
        "id": "AUb5M-j7NFb2"
      },
      "source": [
        "# from keras.backend import clear_session\n",
        "# clear_session()"
      ],
      "execution_count": null,
      "outputs": []
    },
    {
      "cell_type": "markdown",
      "metadata": {
        "id": "apgZ04QuSWhf"
      },
      "source": [
        "With word2vec"
      ]
    },
    {
      "cell_type": "code",
      "metadata": {
        "id": "HUu0COA-SazZ"
      },
      "source": [
        ""
      ],
      "execution_count": null,
      "outputs": []
    },
    {
      "cell_type": "code",
      "metadata": {
        "id": "zGAQ52zuSa2z"
      },
      "source": [
        ""
      ],
      "execution_count": null,
      "outputs": []
    },
    {
      "cell_type": "markdown",
      "metadata": {
        "id": "ru_jzVgL02-x"
      },
      "source": [
        "## 9. LSTM"
      ]
    },
    {
      "cell_type": "code",
      "metadata": {
        "id": "BYK-5iXD-1hf"
      },
      "source": [
        "import tensorflow as tf\n",
        "from tensorflow.keras.layers import Embedding\n",
        "from tensorflow.keras.preprocessing.sequence import pad_sequences\n",
        "from tensorflow.keras.models import Sequential\n",
        "from tensorflow.keras.preprocessing.text import one_hot\n",
        "from tensorflow.keras.layers import LSTM\n",
        "from tensorflow.keras.layers import Dense\n",
        "from keras.layers import Dense, Flatten, LSTM, Conv1D, MaxPooling1D, Dropout, Activation, BatchNormalization\n",
        "\n",
        "# Evaluation metrics\n",
        "from sklearn.metrics import accuracy_score, make_scorer, confusion_matrix, classification_report, log_loss, auc, roc_auc_score, roc_curve, f1_score, precision_recall_curve, recall_score, precision_score\n"
      ],
      "execution_count": null,
      "outputs": []
    },
    {
      "cell_type": "markdown",
      "metadata": {
        "id": "u8bAXQoC914v"
      },
      "source": [
        " TF-IDF"
      ]
    },
    {
      "cell_type": "code",
      "metadata": {
        "colab": {
          "base_uri": "https://localhost:8080/"
        },
        "id": "0-43qiXe938_",
        "outputId": "4da7d403-929b-42df-b598-69378b3b030a"
      },
      "source": [
        "%time\n",
        "\n",
        "#libraries\n",
        "import nltk\n",
        "nltk.download('punkt')\n",
        "import random\n",
        "# Splitting data into train, test & validation sets\n",
        "from sklearn.model_selection import train_test_split\n",
        "seed=42\n",
        "x_train, x_val_test, y_train, y_val_test = train_test_split(corpus, y, test_size=.4, stratify=y, random_state=seed)\n",
        "\n",
        "x_val, x_test, y_val, y_test = train_test_split(\n",
        "    x_val_test, y_val_test, test_size=.6, stratify=y_val_test, random_state=seed)\n",
        "\n",
        "\n",
        "# tf-idf vectorizer for sentence/topic/document modelling\n",
        "max_features=5000\n",
        "tvec = TfidfVectorizer(max_features=max_features, ngram_range=(1, 3), max_df=0.65,\n",
        "                       tokenizer=nltk.word_tokenize,\n",
        "                       strip_accents='unicode',\n",
        "                       lowercase=True, analyzer='word', token_pattern=r'\\w+',\n",
        "                       use_idf=True, smooth_idf=True, sublinear_tf=False,\n",
        "                       stop_words=stopwords.words('english'))\n",
        "\n",
        "\n",
        "# Fit & Transform on train texts\n",
        "# Only transform on val & test texts\n",
        "\n",
        "x_train_tf = tvec.fit_transform(x_train).toarray()\n",
        "x_val_tf = tvec.transform(x_val).toarray()\n",
        "x_test_tf = tvec.transform(x_test).toarray()\n",
        "\n",
        "# Printing the shape of different text corpus\n",
        "\n",
        "print('\\nx_train_tf shape: ', x_train_tf.shape)\n",
        "print('x_val_tf: ', x_val_tf.shape)\n",
        "print('x_test_tf: ', x_test_tf.shape)\n",
        "\n",
        "# Reshape data to [samples, time steps, features] shape\n",
        "\n",
        "print(\n",
        "    '\\nReshaping data to the shape [samples, time steps, features] for LSTMs ...')\n",
        "x_train_tf_lstm = np.reshape(\n",
        "    x_train_tf, (x_train_tf.shape[0], 1, x_train_tf.shape[1]))\n",
        "x_val_tf_lstm = np.reshape(x_val_tf, (x_val_tf.shape[0], 1, x_val_tf.shape[1]))\n",
        "x_test_tf_lstm = np.reshape(\n",
        "    x_test_tf, (x_test_tf.shape[0], 1, x_test_tf.shape[1]))\n",
        "print('\\nReshaping done ...')"
      ],
      "execution_count": null,
      "outputs": [
        {
          "output_type": "stream",
          "text": [
            "CPU times: user 3 µs, sys: 0 ns, total: 3 µs\n",
            "Wall time: 7.63 µs\n",
            "[nltk_data] Downloading package punkt to /root/nltk_data...\n",
            "[nltk_data]   Unzipping tokenizers/punkt.zip.\n"
          ],
          "name": "stdout"
        },
        {
          "output_type": "stream",
          "text": [
            "/usr/local/lib/python3.7/dist-packages/sklearn/feature_extraction/text.py:385: UserWarning:\n",
            "\n",
            "Your stop_words may be inconsistent with your preprocessing. Tokenizing the stop words generated tokens [\"'d\", \"'ll\", \"'re\", \"'s\", \"'ve\", 'could', 'might', 'must', \"n't\", 'need', 'sha', 'wo', 'would'] not in stop_words.\n",
            "\n"
          ],
          "name": "stderr"
        },
        {
          "output_type": "stream",
          "text": [
            "\n",
            "x_train_tf shape:  (12480, 5000)\n",
            "x_val_tf:  (3328, 5000)\n",
            "x_test_tf:  (4992, 5000)\n",
            "\n",
            "Reshaping data to the shape [samples, time steps, features] for LSTMs ...\n",
            "\n",
            "Reshaping done ...\n"
          ],
          "name": "stdout"
        }
      ]
    },
    {
      "cell_type": "markdown",
      "metadata": {
        "id": "SAp752XF-HqF"
      },
      "source": [
        "Training"
      ]
    },
    {
      "cell_type": "markdown",
      "metadata": {
        "id": "Q3qz7IWGBkci"
      },
      "source": [
        "Basic LSTM With TF-IDF"
      ]
    },
    {
      "cell_type": "code",
      "metadata": {
        "colab": {
          "base_uri": "https://localhost:8080/"
        },
        "id": "B0m7LJwb93_Q",
        "outputId": "999fb0a5-b03b-4adf-8d33-d100f2f44820"
      },
      "source": [
        "#libraries\n",
        "np.random.seed(seed)\n",
        "\n",
        "# Create Model\n",
        "\n",
        "model = Sequential()\n",
        "\n",
        "model.add(LSTM(512, input_shape=(1, max_features),\n",
        "               dropout=0.2, recurrent_dropout=0.2))\n",
        "model.add(BatchNormalization())\n",
        "\n",
        "model.add(Dense(512, activation='relu'))\n",
        "model.add(BatchNormalization())\n",
        "model.add(Dropout(0.2))\n",
        "\n",
        "model.add(Dense(64, activation='relu'))\n",
        "model.add(BatchNormalization())\n",
        "model.add(Dropout(0.1))\n",
        "\n",
        "model.add(Dense(1, activation='sigmoid'))\n",
        "\n",
        "# Compile Model\n",
        "\n",
        "model.compile(loss='binary_crossentropy',\n",
        "              optimizer='adam', metrics=['accuracy'])\n",
        "print(model.summary())\n",
        "\n",
        "\n",
        "\n",
        "# Fit the model with shuffled data\n",
        "\n",
        "# model.fit_generator(generator=batch_generator_shuffle(x_train_tf, y_train, batch_size),\n",
        "#                     validation_data=(x_val_tf, y_val), epochs=50, steps_per_epoch=x_train_tf.shape[0]/batch_size,\n",
        "#                     verbose=2, callbacks=callbacks_list, shuffle=True, initial_epoch=0,\n",
        "#                     use_multiprocessing=True)\n",
        "batch_size=64\n",
        "epochs=10\n",
        "model.fit(x_train_tf_lstm, y_train, validation_data=(x_val_tf_lstm, y_val), batch_size=batch_size,\n",
        "          epochs=epochs, verbose=2)"
      ],
      "execution_count": null,
      "outputs": [
        {
          "output_type": "stream",
          "text": [
            "WARNING:tensorflow:Layer lstm will not use cuDNN kernel since it doesn't meet the cuDNN kernel criteria. It will use generic GPU kernel as fallback when running on GPU\n",
            "Model: \"sequential\"\n",
            "_________________________________________________________________\n",
            "Layer (type)                 Output Shape              Param #   \n",
            "=================================================================\n",
            "lstm (LSTM)                  (None, 512)               11290624  \n",
            "_________________________________________________________________\n",
            "batch_normalization (BatchNo (None, 512)               2048      \n",
            "_________________________________________________________________\n",
            "dense (Dense)                (None, 512)               262656    \n",
            "_________________________________________________________________\n",
            "batch_normalization_1 (Batch (None, 512)               2048      \n",
            "_________________________________________________________________\n",
            "dropout (Dropout)            (None, 512)               0         \n",
            "_________________________________________________________________\n",
            "dense_1 (Dense)              (None, 64)                32832     \n",
            "_________________________________________________________________\n",
            "batch_normalization_2 (Batch (None, 64)                256       \n",
            "_________________________________________________________________\n",
            "dropout_1 (Dropout)          (None, 64)                0         \n",
            "_________________________________________________________________\n",
            "dense_2 (Dense)              (None, 1)                 65        \n",
            "=================================================================\n",
            "Total params: 11,590,529\n",
            "Trainable params: 11,588,353\n",
            "Non-trainable params: 2,176\n",
            "_________________________________________________________________\n",
            "None\n",
            "Epoch 1/10\n",
            "195/195 - 7s - loss: 0.3046 - accuracy: 0.8755 - val_loss: 0.5873 - val_accuracy: 0.5391\n",
            "Epoch 2/10\n",
            "195/195 - 2s - loss: 0.1657 - accuracy: 0.9339 - val_loss: 0.4041 - val_accuracy: 0.7909\n",
            "Epoch 3/10\n",
            "195/195 - 2s - loss: 0.0838 - accuracy: 0.9683 - val_loss: 0.3379 - val_accuracy: 0.8774\n",
            "Epoch 5/10\n",
            "195/195 - 2s - loss: 0.0673 - accuracy: 0.9743 - val_loss: 0.2690 - val_accuracy: 0.9047\n",
            "Epoch 6/10\n",
            "195/195 - 2s - loss: 0.0558 - accuracy: 0.9795 - val_loss: 0.2829 - val_accuracy: 0.9023\n",
            "Epoch 7/10\n",
            "195/195 - 2s - loss: 0.0483 - accuracy: 0.9837 - val_loss: 0.2983 - val_accuracy: 0.9017\n",
            "Epoch 8/10\n",
            "195/195 - 2s - loss: 0.0480 - accuracy: 0.9840 - val_loss: 0.2511 - val_accuracy: 0.9216\n",
            "Epoch 9/10\n",
            "195/195 - 2s - loss: 0.0385 - accuracy: 0.9863 - val_loss: 0.2565 - val_accuracy: 0.9288\n",
            "Epoch 10/10\n",
            "195/195 - 2s - loss: 0.0351 - accuracy: 0.9880 - val_loss: 0.2554 - val_accuracy: 0.9270\n"
          ],
          "name": "stdout"
        },
        {
          "output_type": "execute_result",
          "data": {
            "text/plain": [
              "<tensorflow.python.keras.callbacks.History at 0x7f2b8f7637d0>"
            ]
          },
          "metadata": {
            "tags": []
          },
          "execution_count": 98
        }
      ]
    },
    {
      "cell_type": "markdown",
      "metadata": {
        "id": "akBcLnRuAl6a"
      },
      "source": [
        "Evaluation"
      ]
    },
    {
      "cell_type": "code",
      "metadata": {
        "colab": {
          "base_uri": "https://localhost:8080/"
        },
        "id": "HSJjRPVJ94CX",
        "outputId": "969dda88-2e4e-4576-c69b-ceeb5bd14896"
      },
      "source": [
        "# Evaluation gives the result from the last trained model\n",
        "\n",
        "model.evaluate(x=x_test_tf_lstm, y=y_test)"
      ],
      "execution_count": null,
      "outputs": [
        {
          "output_type": "stream",
          "text": [
            "156/156 [==============================] - 1s 5ms/step - loss: 0.2696 - accuracy: 0.9287\n"
          ],
          "name": "stdout"
        },
        {
          "output_type": "execute_result",
          "data": {
            "text/plain": [
              "[0.2695559859275818, 0.9286859035491943]"
            ]
          },
          "metadata": {
            "tags": []
          },
          "execution_count": 99
        }
      ]
    },
    {
      "cell_type": "markdown",
      "metadata": {
        "id": "Tp9twVnVAvx3"
      },
      "source": [
        "Confusion Matrix and F1 Score"
      ]
    },
    {
      "cell_type": "code",
      "metadata": {
        "colab": {
          "base_uri": "https://localhost:8080/",
          "height": 599
        },
        "id": "xV4aMZGT94Fl",
        "outputId": "8496f2c7-be42-4064-9cde-a911eeb0b66e"
      },
      "source": [
        "# Evaluation gives the result from the last trained model\n",
        "\n",
        "y_pred = model.predict(x=x_test_tf_lstm)\n",
        "y_pred = [np.round(value) for value in y_pred]\n",
        "\n",
        "print('LSTM basic cells Scores\\n')\n",
        "print(\"F1 score {:.4}%\".format(f1_score(y_test, y_pred)*100))\n",
        "print('Accuracy score {:.4}%'.format(accuracy_score(y_test, y_pred)*100))\n",
        "\n",
        "\n",
        "con_matrix = confusion_matrix(y_test, y_pred)\n",
        "\n",
        "# Plot confusion matrix using seaborn heatmap\n",
        "\n",
        "fig, ax = plt.subplots(1, figsize=(8, 8))\n",
        "import seaborn as sns\n",
        "ax = sns.heatmap(con_matrix, ax=ax, cmap='viridis', annot=True, fmt='g')\n",
        "xticklabels=['Fake', 'True']\n",
        "ax.set_xticklabels(xticklabels, rotation=45)\n",
        "ax.set_yticklabels(xticklabels, rotation=45)\n",
        "\n",
        "plt.xlabel('Predicted class')\n",
        "plt.ylabel('True class')\n",
        "plt.title('Confusion Matrix')\n",
        "\n",
        "# fig.savefig(os.path.join('./save/con_matrix',\n",
        "#                          'FakeNews_LSTM_Confusion_Matrix.png'), dpi=300)\n",
        "plt.show()"
      ],
      "execution_count": null,
      "outputs": [
        {
          "output_type": "stream",
          "text": [
            "LSTM basic cells Scores\n",
            "\n",
            "F1 score 92.97%\n",
            "Accuracy score 92.87%\n"
          ],
          "name": "stdout"
        },
        {
          "output_type": "display_data",
          "data": {
            "image/png": "[encoded data removed]",
            "text/plain": [
              "<Figure size 576x576 with 2 Axes>"
            ]
          },
          "metadata": {
            "tags": []
          }
        }
      ]
    },
    {
      "cell_type": "markdown",
      "metadata": {
        "id": "wrSbMJlKAk3i"
      },
      "source": [
        "Bi-Directional LSTM with TF-IDF"
      ]
    },
    {
      "cell_type": "code",
      "metadata": {
        "id": "t20hoj7CENts"
      },
      "source": [
        ""
      ],
      "execution_count": null,
      "outputs": []
    },
    {
      "cell_type": "code",
      "metadata": {
        "id": "SYm02JimENxz"
      },
      "source": [
        ""
      ],
      "execution_count": null,
      "outputs": []
    },
    {
      "cell_type": "code",
      "metadata": {
        "id": "iS9YQexcEEDR"
      },
      "source": [
        ""
      ],
      "execution_count": null,
      "outputs": []
    },
    {
      "cell_type": "markdown",
      "metadata": {
        "id": "h99SrUgPSOTN"
      },
      "source": [
        "Basic LSTM With embedding one-hot encoding"
      ]
    },
    {
      "cell_type": "code",
      "metadata": {
        "id": "W7nfySmkN9kv",
        "colab": {
          "base_uri": "https://localhost:8080/"
        },
        "outputId": "35518280-cb06-4b39-d482-62b8846b908a"
      },
      "source": [
        "### Vocabulary size\n",
        "voc_size=5000\n",
        "#one  hot representation\n",
        "onehot_repr=[one_hot(words,voc_size)for words in corpus] \n",
        "#Panding\n",
        "sent_length=20\n",
        "embedded_docs=pad_sequences(onehot_repr,padding='pre',maxlen=sent_length)\n",
        "print(embedded_docs)"
      ],
      "execution_count": null,
      "outputs": [
        {
          "output_type": "stream",
          "text": [
            "[[   0    0    0 ... 3075 2403 1597]\n",
            " [   0    0    0 ...  830 4921 2212]\n",
            " [   0    0    0 ... 2776 4280  239]\n",
            " ...\n",
            " [   0    0    0 ...    4 4346 4988]\n",
            " [   0    0    0 ... 1171 3386 2380]\n",
            " [   0    0    0 ... 2207  343 1794]]\n"
          ],
          "name": "stdout"
        }
      ]
    },
    {
      "cell_type": "code",
      "metadata": {
        "id": "tEnKWMLEHy4e",
        "colab": {
          "base_uri": "https://localhost:8080/"
        },
        "outputId": "4c58e7bc-c34c-4787-cdf4-c1ef7c9c5d7e"
      },
      "source": [
        "## Creating model\n",
        "embedding_vector_features=40\n",
        "model=Sequential()\n",
        "model.add(Embedding(voc_size,embedding_vector_features,input_length=sent_length))\n",
        "model.add(LSTM(100))\n",
        "model.add(Dense(1,activation='sigmoid'))\n",
        "model.compile(loss='binary_crossentropy',optimizer='adam',metrics=['accuracy'])\n",
        "print(model.summary())"
      ],
      "execution_count": null,
      "outputs": [
        {
          "output_type": "stream",
          "text": [
            "Model: \"sequential_1\"\n",
            "_________________________________________________________________\n",
            "Layer (type)                 Output Shape              Param #   \n",
            "=================================================================\n",
            "embedding (Embedding)        (None, 20, 40)            200000    \n",
            "_________________________________________________________________\n",
            "lstm_1 (LSTM)                (None, 100)               56400     \n",
            "_________________________________________________________________\n",
            "dense_3 (Dense)              (None, 1)                 101       \n",
            "=================================================================\n",
            "Total params: 256,501\n",
            "Trainable params: 256,501\n",
            "Non-trainable params: 0\n",
            "_________________________________________________________________\n",
            "None\n"
          ],
          "name": "stdout"
        }
      ]
    },
    {
      "cell_type": "code",
      "metadata": {
        "id": "qN-MiR9kH2tP"
      },
      "source": [
        "import numpy as np\n",
        "X_final=np.array(embedded_docs)\n",
        "y_final=np.array(y)\n",
        "#splitting\n",
        "from sklearn.model_selection import train_test_split\n",
        "X_train, X_test, y_train, y_test = train_test_split(X_final, y_final, test_size=0.33, random_state=42)"
      ],
      "execution_count": null,
      "outputs": []
    },
    {
      "cell_type": "code",
      "metadata": {
        "id": "qxwzAVZsH7mB",
        "colab": {
          "base_uri": "https://localhost:8080/"
        },
        "outputId": "b26a625b-4a00-4755-d4e4-a8c4c267557b"
      },
      "source": [
        "#model training\n",
        "model.fit(X_train,y_train,validation_data=(X_test,y_test),epochs=10,batch_size=64)"
      ],
      "execution_count": null,
      "outputs": [
        {
          "output_type": "stream",
          "text": [
            "Epoch 1/10\n",
            "218/218 [==============================] - 33s 15ms/step - loss: 0.4508 - accuracy: 0.7868 - val_loss: 0.1936 - val_accuracy: 0.9254\n",
            "Epoch 2/10\n",
            "218/218 [==============================] - 3s 14ms/step - loss: 0.1310 - accuracy: 0.9482 - val_loss: 0.1937 - val_accuracy: 0.9253\n",
            "Epoch 3/10\n",
            "218/218 [==============================] - 3s 14ms/step - loss: 0.0865 - accuracy: 0.9701 - val_loss: 0.2124 - val_accuracy: 0.9240\n",
            "Epoch 4/10\n",
            "218/218 [==============================] - 3s 15ms/step - loss: 0.0620 - accuracy: 0.9796 - val_loss: 0.2754 - val_accuracy: 0.9257\n",
            "Epoch 5/10\n",
            "218/218 [==============================] - 3s 15ms/step - loss: 0.0552 - accuracy: 0.9828 - val_loss: 0.2697 - val_accuracy: 0.9155\n",
            "Epoch 6/10\n",
            "218/218 [==============================] - 3s 15ms/step - loss: 0.0381 - accuracy: 0.9877 - val_loss: 0.3299 - val_accuracy: 0.9123\n",
            "Epoch 7/10\n",
            "218/218 [==============================] - 4s 16ms/step - loss: 0.0193 - accuracy: 0.9944 - val_loss: 0.3236 - val_accuracy: 0.9172\n",
            "Epoch 8/10\n",
            "218/218 [==============================] - 4s 16ms/step - loss: 0.0156 - accuracy: 0.9952 - val_loss: 0.3771 - val_accuracy: 0.9193\n",
            "Epoch 9/10\n",
            "218/218 [==============================] - 3s 16ms/step - loss: 0.0131 - accuracy: 0.9958 - val_loss: 0.5347 - val_accuracy: 0.9098\n",
            "Epoch 10/10\n",
            "218/218 [==============================] - 4s 16ms/step - loss: 0.0118 - accuracy: 0.9966 - val_loss: 0.4727 - val_accuracy: 0.9094\n"
          ],
          "name": "stdout"
        },
        {
          "output_type": "execute_result",
          "data": {
            "text/plain": [
              "<tensorflow.python.keras.callbacks.History at 0x7f2b8c398b10>"
            ]
          },
          "metadata": {
            "tags": []
          },
          "execution_count": 104
        }
      ]
    },
    {
      "cell_type": "code",
      "metadata": {
        "id": "GDPlWHfYIB_2"
      },
      "source": [
        "#adding dropout\n",
        "from tensorflow.keras.layers import Dropout\n",
        "## Creating model\n",
        "embedding_vector_features=40\n",
        "model=Sequential()\n",
        "model.add(Embedding(voc_size,embedding_vector_features,input_length=sent_length))\n",
        "model.add(Dropout(0.3))\n",
        "model.add(LSTM(300))\n",
        "model.add(Dropout(0.3))\n",
        "model.add(Dense(1,activation='sigmoid'))\n",
        "model.compile(loss='binary_crossentropy',optimizer='adam',metrics=['accuracy'])"
      ],
      "execution_count": null,
      "outputs": []
    },
    {
      "cell_type": "code",
      "metadata": {
        "id": "OvDSE5b-JIsl",
        "colab": {
          "base_uri": "https://localhost:8080/"
        },
        "outputId": "87612a1d-e3ce-4a9d-c42c-1b59abc2dc99"
      },
      "source": [
        "#model training\n",
        "model.fit(X_train,y_train,validation_data=(X_test,y_test),epochs=10,batch_size=64)"
      ],
      "execution_count": null,
      "outputs": [
        {
          "output_type": "stream",
          "text": [
            "Epoch 1/10\n",
            "218/218 [==============================] - 5s 17ms/step - loss: 0.4445 - accuracy: 0.7876 - val_loss: 0.2089 - val_accuracy: 0.9189\n",
            "Epoch 2/10\n",
            "218/218 [==============================] - 3s 16ms/step - loss: 0.1282 - accuracy: 0.9496 - val_loss: 0.1913 - val_accuracy: 0.9289\n",
            "Epoch 3/10\n",
            "218/218 [==============================] - 2s 10ms/step - loss: 0.0988 - accuracy: 0.9655 - val_loss: 0.2143 - val_accuracy: 0.9172\n",
            "Epoch 4/10\n",
            "218/218 [==============================] - 3s 15ms/step - loss: 0.0692 - accuracy: 0.9768 - val_loss: 0.2331 - val_accuracy: 0.9261\n",
            "Epoch 5/10\n",
            "218/218 [==============================] - 3s 16ms/step - loss: 0.0454 - accuracy: 0.9850 - val_loss: 0.2544 - val_accuracy: 0.9237\n",
            "Epoch 6/10\n",
            "218/218 [==============================] - 3s 16ms/step - loss: 0.0372 - accuracy: 0.9872 - val_loss: 0.2700 - val_accuracy: 0.9245\n",
            "Epoch 7/10\n",
            "218/218 [==============================] - 3s 15ms/step - loss: 0.0373 - accuracy: 0.9887 - val_loss: 0.3234 - val_accuracy: 0.9205\n",
            "Epoch 8/10\n",
            "218/218 [==============================] - 3s 15ms/step - loss: 0.0205 - accuracy: 0.9947 - val_loss: 0.3806 - val_accuracy: 0.9238\n",
            "Epoch 9/10\n",
            "218/218 [==============================] - 4s 17ms/step - loss: 0.0178 - accuracy: 0.9946 - val_loss: 0.3225 - val_accuracy: 0.9209\n",
            "Epoch 10/10\n",
            "218/218 [==============================] - 3s 16ms/step - loss: 0.0283 - accuracy: 0.9919 - val_loss: 0.4068 - val_accuracy: 0.9117\n"
          ],
          "name": "stdout"
        },
        {
          "output_type": "execute_result",
          "data": {
            "text/plain": [
              "<tensorflow.python.keras.callbacks.History at 0x7f2b8b678090>"
            ]
          },
          "metadata": {
            "tags": []
          },
          "execution_count": 106
        }
      ]
    },
    {
      "cell_type": "code",
      "metadata": {
        "id": "sA2LEelwIKow",
        "colab": {
          "base_uri": "https://localhost:8080/"
        },
        "outputId": "cfcca7a4-6fa2-44f0-d979-b7a04043ed8c"
      },
      "source": [
        "#performance metrics and accuracy\n",
        "y_pred=model.predict_classes(X_test)"
      ],
      "execution_count": null,
      "outputs": [
        {
          "output_type": "stream",
          "text": [
            "/usr/local/lib/python3.7/dist-packages/tensorflow/python/keras/engine/sequential.py:450: UserWarning:\n",
            "\n",
            "`model.predict_classes()` is deprecated and will be removed after 2021-01-01. Please use instead:* `np.argmax(model.predict(x), axis=-1)`,   if your model does multi-class classification   (e.g. if it uses a `softmax` last-layer activation).* `(model.predict(x) > 0.5).astype(\"int32\")`,   if your model does binary classification   (e.g. if it uses a `sigmoid` last-layer activation).\n",
            "\n"
          ],
          "name": "stderr"
        }
      ]
    },
    {
      "cell_type": "code",
      "metadata": {
        "id": "nKKaoKJ_IYVt",
        "colab": {
          "base_uri": "https://localhost:8080/"
        },
        "outputId": "db99c13b-4f2a-4918-ed97-b63286b32298"
      },
      "source": [
        "from sklearn.metrics import confusion_matrix\n",
        "confusion_matrix(y_test,y_pred)"
      ],
      "execution_count": null,
      "outputs": [
        {
          "output_type": "execute_result",
          "data": {
            "text/plain": [
              "array([[3173,  276],\n",
              "       [ 330, 3085]])"
            ]
          },
          "metadata": {
            "tags": []
          },
          "execution_count": 108
        }
      ]
    },
    {
      "cell_type": "code",
      "metadata": {
        "id": "3hZRugEQIYdw",
        "colab": {
          "base_uri": "https://localhost:8080/"
        },
        "outputId": "73f1b9b2-bc10-46e5-f583-c71dd50cfe07"
      },
      "source": [
        "from sklearn.metrics import accuracy_score\n",
        "accuracy_score(y_test,y_pred)"
      ],
      "execution_count": null,
      "outputs": [
        {
          "output_type": "execute_result",
          "data": {
            "text/plain": [
              "0.9117132867132867"
            ]
          },
          "metadata": {
            "tags": []
          },
          "execution_count": 109
        }
      ]
    },
    {
      "cell_type": "markdown",
      "metadata": {
        "id": "6xsh3MvKI6-a"
      },
      "source": [
        "Basic LSTM with Word2vec word embedding"
      ]
    },
    {
      "cell_type": "code",
      "metadata": {
        "id": "ER3elxpOZrUw"
      },
      "source": [
        "from gensim.models import Word2Vec"
      ],
      "execution_count": null,
      "outputs": []
    },
    {
      "cell_type": "code",
      "metadata": {
        "id": "0866rGOycE9d"
      },
      "source": [
        "import gensim.models.keyedvectors as word2vec "
      ],
      "execution_count": null,
      "outputs": []
    },
    {
      "cell_type": "code",
      "metadata": {
        "id": "XZ8p3_LzcPGt",
        "colab": {
          "base_uri": "https://localhost:8080/"
        },
        "outputId": "2f317477-a0fb-4843-992c-bc41f7838e8c"
      },
      "source": [
        "!wget http://nlp.stanford.edu/data/glove.6B.zip"
      ],
      "execution_count": null,
      "outputs": [
        {
          "output_type": "stream",
          "text": [
            "--2021-03-29 12:44:09--  http://nlp.stanford.edu/data/glove.6B.zip\n",
            "Resolving nlp.stanford.edu (nlp.stanford.edu)... 171.64.67.140\n",
            "Connecting to nlp.stanford.edu (nlp.stanford.edu)|171.64.67.140|:80... connected.\n",
            "HTTP request sent, awaiting response... 302 Found\n",
            "Location: https://nlp.stanford.edu/data/glove.6B.zip [following]\n",
            "--2021-03-29 12:44:09--  https://nlp.stanford.edu/data/glove.6B.zip\n",
            "Connecting to nlp.stanford.edu (nlp.stanford.edu)|171.64.67.140|:443... connected.\n",
            "HTTP request sent, awaiting response... 301 Moved Permanently\n",
            "Location: http://downloads.cs.stanford.edu/nlp/data/glove.6B.zip [following]\n",
            "--2021-03-29 12:44:09--  http://downloads.cs.stanford.edu/nlp/data/glove.6B.zip\n",
            "Resolving downloads.cs.stanford.edu (downloads.cs.stanford.edu)... 171.64.64.22\n",
            "Connecting to downloads.cs.stanford.edu (downloads.cs.stanford.edu)|171.64.64.22|:80... connected.\n",
            "HTTP request sent, awaiting response... 200 OK\n",
            "Length: 862182613 (822M) [application/zip]\n",
            "Saving to: ‘glove.6B.zip.1’\n",
            "\n",
            "glove.6B.zip.1      100%[===================>] 822.24M  5.09MB/s    in 2m 41s  \n",
            "\n",
            "2021-03-29 12:46:50 (5.10 MB/s) - ‘glove.6B.zip.1’ saved [862182613/862182613]\n",
            "\n"
          ],
          "name": "stdout"
        }
      ]
    },
    {
      "cell_type": "code",
      "metadata": {
        "id": "UshpXjIucn5c",
        "colab": {
          "base_uri": "https://localhost:8080/"
        },
        "outputId": "4f748e56-574e-4d3c-9cc4-799918b22cc7"
      },
      "source": [
        "!wget https://s3.amazonaws.com/dl4j-distribution/GoogleNews-vectors-negative300.bin.gz "
      ],
      "execution_count": null,
      "outputs": [
        {
          "output_type": "stream",
          "text": [
            "--2021-03-29 12:46:50--  https://s3.amazonaws.com/dl4j-distribution/GoogleNews-vectors-negative300.bin.gz\n",
            "Resolving s3.amazonaws.com (s3.amazonaws.com)... 52.216.96.21\n",
            "Connecting to s3.amazonaws.com (s3.amazonaws.com)|52.216.96.21|:443... connected.\n",
            "HTTP request sent, awaiting response... 200 OK\n",
            "Length: 1647046227 (1.5G) [application/x-gzip]\n",
            "Saving to: ‘GoogleNews-vectors-negative300.bin.gz’\n",
            "\n",
            "GoogleNews-vectors- 100%[===================>]   1.53G  40.2MB/s    in 49s     \n",
            "\n",
            "2021-03-29 12:47:40 (31.8 MB/s) - ‘GoogleNews-vectors-negative300.bin.gz’ saved [1647046227/1647046227]\n",
            "\n"
          ],
          "name": "stdout"
        }
      ]
    },
    {
      "cell_type": "code",
      "metadata": {
        "id": "v_N6Jy1re-q-",
        "colab": {
          "base_uri": "https://localhost:8080/"
        },
        "outputId": "6c2825eb-29e2-4ed9-c2d1-43ffc56bec88"
      },
      "source": [
        "!gunzip GoogleNews-vectors-negative300.bin "
      ],
      "execution_count": null,
      "outputs": [
        {
          "output_type": "stream",
          "text": [
            "gzip: GoogleNews-vectors-negative300.bin: unknown suffix -- ignored\n"
          ],
          "name": "stdout"
        }
      ]
    },
    {
      "cell_type": "code",
      "metadata": {
        "colab": {
          "base_uri": "https://localhost:8080/"
        },
        "id": "T-iCTwLjeNNh",
        "outputId": "a8293321-c3bb-4702-c84f-23579ed13b3b"
      },
      "source": [
        "!ls\n",
        "!pwd"
      ],
      "execution_count": null,
      "outputs": [
        {
          "output_type": "stream",
          "text": [
            "adc.json\tGoogleNews-vectors-negative300.bin     train.csv\n",
            "glove.6B.zip\tGoogleNews-vectors-negative300.bin.gz\n",
            "glove.6B.zip.1\tsample_data\n",
            "/content\n"
          ],
          "name": "stdout"
        }
      ]
    },
    {
      "cell_type": "code",
      "metadata": {
        "colab": {
          "base_uri": "https://localhost:8080/"
        },
        "id": "ad5KSByYaP_c",
        "outputId": "d9f79a96-4e34-40d9-c7d4-b768e07b5933"
      },
      "source": [
        "\"\"\" Load and index the GoogleNews word2vec file \"\"\"\n",
        "from gensim.models import KeyedVectors\n",
        "\n",
        "EMBEDDING_FILE = 'GoogleNews-vectors-negative300.bin'\n",
        "\n",
        "print('Indexing word vectors')\n",
        "word2vec = KeyedVectors.load_word2vec_format(EMBEDDING_FILE, binary=True)\n",
        "print('Found %s word vectors of word2vec' % len(word2vec.vocab))"
      ],
      "execution_count": null,
      "outputs": [
        {
          "output_type": "stream",
          "text": [
            "Indexing word vectors\n",
            "Found 3000000 word vectors of word2vec\n"
          ],
          "name": "stdout"
        }
      ]
    },
    {
      "cell_type": "code",
      "metadata": {
        "id": "ffH8Pv00I6TP"
      },
      "source": [
        "#Use pretrained Word2Vec model from google but trim the word list to 50,0000 compared to 300,000 in the original Google pretrained model\n",
        "\n",
        "import gensim.models.keyedvectors as word2vec #\n",
        "w2vModel = word2vec.KeyedVectors.load_word2vec_format('GoogleNews-vectors-negative300.bin', binary=True, limit=50000)"
      ],
      "execution_count": null,
      "outputs": []
    },
    {
      "cell_type": "code",
      "metadata": {
        "id": "0fotaFOuI6W8",
        "colab": {
          "base_uri": "https://localhost:8080/"
        },
        "outputId": "bd5bf00c-926d-415a-e1fd-d68ee314efd6"
      },
      "source": [
        "#Convert words to integers\n",
        "tokenizer = Tokenizer()\n",
        "tokenizer.fit_on_texts(corpus)\n",
        "X = tokenizer.texts_to_sequences(corpus)\n",
        "\n",
        "#lenght of tweet to consider\n",
        "maxlentweet = 40\n",
        "#add padding\n",
        "X = pad_sequences(X, maxlen=maxlentweet)\n",
        "print(X.shape)"
      ],
      "execution_count": null,
      "outputs": [
        {
          "output_type": "stream",
          "text": [
            "(20800, 40)\n"
          ],
          "name": "stdout"
        }
      ]
    },
    {
      "cell_type": "code",
      "metadata": {
        "id": "LI_B7x0TWcUj",
        "colab": {
          "base_uri": "https://localhost:8080/"
        },
        "outputId": "573513bb-900a-4091-cf67-6c6fcdc077ab"
      },
      "source": [
        "#create a embedding layer using Google pre triained word2vec (50000 words)\n",
        "embedding_layer = Embedding(input_dim=w2vModel.syn0.shape[0], output_dim=w2vModel.syn0.shape[1], weights=[w2vModel.syn0], \n",
        "                            input_length=X.shape[1])"
      ],
      "execution_count": null,
      "outputs": [
        {
          "output_type": "stream",
          "text": [
            "/usr/local/lib/python3.7/dist-packages/ipykernel_launcher.py:2: DeprecationWarning:\n",
            "\n",
            "Call to deprecated `syn0` (Attribute will be removed in 4.0.0, use self.wv.vectors instead).\n",
            "\n"
          ],
          "name": "stderr"
        }
      ]
    },
    {
      "cell_type": "code",
      "metadata": {
        "id": "5c8W1vI-WnyB",
        "colab": {
          "base_uri": "https://localhost:8080/"
        },
        "outputId": "755c069e-85c6-4a3e-f8e3-d1b25dcb2b3c"
      },
      "source": [
        "lstm_out = 80\n",
        "\n",
        "model = Sequential()\n",
        "model.add(embedding_layer)\n",
        "model.add(LSTM(units=lstm_out))\n",
        "model.add(Dense(1, activation='sigmoid'))\n",
        "model.compile(loss='binary_crossentropy', optimizer='adam', metrics=['accuracy'])\n",
        "print(model.summary())"
      ],
      "execution_count": null,
      "outputs": [
        {
          "output_type": "stream",
          "text": [
            "Model: \"sequential_3\"\n",
            "_________________________________________________________________\n",
            "Layer (type)                 Output Shape              Param #   \n",
            "=================================================================\n",
            "embedding_2 (Embedding)      (None, 40, 300)           15000000  \n",
            "_________________________________________________________________\n",
            "lstm_3 (LSTM)                (None, 80)                121920    \n",
            "_________________________________________________________________\n",
            "dense_5 (Dense)              (None, 1)                 81        \n",
            "=================================================================\n",
            "Total params: 15,122,001\n",
            "Trainable params: 15,122,001\n",
            "Non-trainable params: 0\n",
            "_________________________________________________________________\n",
            "None\n"
          ],
          "name": "stdout"
        }
      ]
    },
    {
      "cell_type": "code",
      "metadata": {
        "id": "Dvv-oc6MWn0o"
      },
      "source": [
        "#split dataset\n",
        "from sklearn.model_selection import train_test_split\n",
        "X_train, X_test, Y_train, Y_test = train_test_split(X, y, test_size= 0.1, random_state = 24)"
      ],
      "execution_count": null,
      "outputs": []
    },
    {
      "cell_type": "code",
      "metadata": {
        "id": "KSrnFvVcWn6w",
        "colab": {
          "base_uri": "https://localhost:8080/"
        },
        "outputId": "38184092-8ae0-4cd3-d27b-a7c889fce588"
      },
      "source": [
        "#fit model\n",
        "batch_size = 32\n",
        "model.fit(X_train, Y_train, epochs=10, verbose=1, batch_size=batch_size)"
      ],
      "execution_count": null,
      "outputs": [
        {
          "output_type": "stream",
          "text": [
            "Epoch 1/10\n",
            "585/585 [==============================] - 85s 144ms/step - loss: 0.2844 - accuracy: 0.8697\n",
            "Epoch 2/10\n",
            "585/585 [==============================] - 84s 144ms/step - loss: 0.0783 - accuracy: 0.9716\n",
            "Epoch 3/10\n",
            "585/585 [==============================] - 84s 143ms/step - loss: 0.0275 - accuracy: 0.9918\n",
            "Epoch 4/10\n",
            "585/585 [==============================] - 84s 144ms/step - loss: 0.0087 - accuracy: 0.9977\n",
            "Epoch 5/10\n",
            "585/585 [==============================] - 84s 144ms/step - loss: 0.0051 - accuracy: 0.9982\n",
            "Epoch 6/10\n",
            "585/585 [==============================] - 84s 143ms/step - loss: 0.0027 - accuracy: 0.9992\n",
            "Epoch 7/10\n",
            "585/585 [==============================] - 84s 143ms/step - loss: 0.0053 - accuracy: 0.9979\n",
            "Epoch 8/10\n",
            "585/585 [==============================] - 84s 143ms/step - loss: 0.0019 - accuracy: 0.9991\n",
            "Epoch 9/10\n",
            "585/585 [==============================] - 84s 143ms/step - loss: 0.0012 - accuracy: 0.9995\n",
            "Epoch 10/10\n",
            "585/585 [==============================] - 83s 143ms/step - loss: 0.0011 - accuracy: 0.9997\n"
          ],
          "name": "stdout"
        },
        {
          "output_type": "execute_result",
          "data": {
            "text/plain": [
              "<tensorflow.python.keras.callbacks.History at 0x7f2b84052e50>"
            ]
          },
          "metadata": {
            "tags": []
          },
          "execution_count": 122
        }
      ]
    },
    {
      "cell_type": "code",
      "metadata": {
        "id": "-GX0QvdtWcZx",
        "colab": {
          "base_uri": "https://localhost:8080/",
          "height": 507
        },
        "outputId": "cc31b6c8-d220-442a-94a3-b0934fe309eb"
      },
      "source": [
        "#analyze the results\n",
        "score, acc = model.evaluate(X_test, Y_test, verbose = 2, batch_size=batch_size)\n",
        "y_pred = model.predict(X_test)\n",
        "\n",
        "#ROC AUC curve\n",
        "rocAuc = roc_auc_score(Y_test, y_pred)\n",
        "\n",
        "falsePositiveRate, truePositiveRate, _ = roc_curve(Y_test, y_pred)\n",
        "\n",
        "plt.figure()\n",
        "\n",
        "plt.plot(falsePositiveRate, truePositiveRate, color='green',\n",
        "         lw=3, label='ROC curve (area = %0.2f)' % rocAuc)\n",
        "plt.plot([0, 1], [0, 1], color='navy', lw=3, linestyle='--')\n",
        "plt.xlim([0.0, 1.0])\n",
        "plt.ylim([0.0, 1.05])\n",
        "plt.xlabel('False Positive Rate')\n",
        "plt.ylabel('True Positive Rate')\n",
        "plt.title('Receiver Operating Characteristic of Fake News Analysis Model')\n",
        "plt.legend(loc=\"lower right\")\n",
        "plt.show()\n",
        "\n",
        "\n",
        "#Other accuracy metrices\n",
        "y_pred = (y_pred > 0.5)\n",
        "\n",
        "#confusion metrix\n",
        "cm = confusion_matrix(Y_test, y_pred)\n",
        "print(cm)\n",
        "\n",
        "#F1 Score, Recall and Precision\n",
        "print(classification_report(Y_test, y_pred, target_names=['Fake', 'Real']))"
      ],
      "execution_count": null,
      "outputs": [
        {
          "output_type": "stream",
          "text": [
            "65/65 - 0s - loss: 0.4551 - accuracy: 0.9197\n"
          ],
          "name": "stdout"
        },
        {
          "output_type": "display_data",
          "data": {
            "image/png": "[encoded data removed]",
            "text/plain": [
              "<Figure size 432x288 with 1 Axes>"
            ]
          },
          "metadata": {
            "tags": []
          }
        },
        {
          "output_type": "stream",
          "text": [
            "[[993  78]\n",
            " [ 89 920]]\n",
            "              precision    recall  f1-score   support\n",
            "\n",
            "        Fake       0.92      0.93      0.92      1071\n",
            "        Real       0.92      0.91      0.92      1009\n",
            "\n",
            "    accuracy                           0.92      2080\n",
            "   macro avg       0.92      0.92      0.92      2080\n",
            "weighted avg       0.92      0.92      0.92      2080\n",
            "\n"
          ],
          "name": "stdout"
        }
      ]
    },
    {
      "cell_type": "markdown",
      "metadata": {
        "id": "Cayv-Wn5KBQC"
      },
      "source": [
        "Bi-directional LSTM with word2vec"
      ]
    },
    {
      "cell_type": "code",
      "metadata": {
        "colab": {
          "base_uri": "https://localhost:8080/"
        },
        "id": "AaImIjvuKgXJ",
        "outputId": "f32a57bf-9fd5-4a6f-8ce8-25b005c8139a"
      },
      "source": [
        "from tensorflow.keras.layers import Bidirectional\n",
        "model1=Sequential()\n",
        "model1.add(embedding_layer)\n",
        "model1.add(Bidirectional(LSTM(100)))\n",
        "model1.add(Dropout(0.3))\n",
        "model1.add(Dense(1,activation='sigmoid'))\n",
        "model1.compile(loss='binary_crossentropy',optimizer='adam',metrics=['accuracy'])\n",
        "print(model1.summary())"
      ],
      "execution_count": null,
      "outputs": [
        {
          "output_type": "stream",
          "text": [
            "Model: \"sequential_4\"\n",
            "_________________________________________________________________\n",
            "Layer (type)                 Output Shape              Param #   \n",
            "=================================================================\n",
            "embedding_2 (Embedding)      (None, 40, 300)           15000000  \n",
            "_________________________________________________________________\n",
            "bidirectional (Bidirectional (None, 200)               320800    \n",
            "_________________________________________________________________\n",
            "dropout_4 (Dropout)          (None, 200)               0         \n",
            "_________________________________________________________________\n",
            "dense_6 (Dense)              (None, 1)                 201       \n",
            "=================================================================\n",
            "Total params: 15,321,001\n",
            "Trainable params: 15,321,001\n",
            "Non-trainable params: 0\n",
            "_________________________________________________________________\n",
            "None\n"
          ],
          "name": "stdout"
        }
      ]
    },
    {
      "cell_type": "code",
      "metadata": {
        "id": "Cq2zg4kuJ_Xi"
      },
      "source": [
        "#split dataset\n",
        "from sklearn.model_selection import train_test_split\n",
        "X_train, X_test, Y_train, Y_test = train_test_split(X, y, test_size= 0.1, random_state = 24)"
      ],
      "execution_count": null,
      "outputs": []
    },
    {
      "cell_type": "code",
      "metadata": {
        "colab": {
          "base_uri": "https://localhost:8080/"
        },
        "id": "C9zOH6jVJ_bw",
        "outputId": "a8ca461b-bf49-4a8e-8183-4f16bf6582f7"
      },
      "source": [
        "#fit model\n",
        "batch_size = 32\n",
        "model1.fit(X_train, Y_train, epochs=10, verbose=1, batch_size=batch_size)"
      ],
      "execution_count": null,
      "outputs": [
        {
          "output_type": "stream",
          "text": [
            "Epoch 1/10\n",
            "585/585 [==============================] - 86s 144ms/step - loss: 0.1019 - accuracy: 0.9588\n",
            "Epoch 2/10\n",
            "585/585 [==============================] - 84s 144ms/step - loss: 0.0030 - accuracy: 0.9993\n",
            "Epoch 3/10\n",
            "585/585 [==============================] - 84s 144ms/step - loss: 0.0018 - accuracy: 0.9997\n",
            "Epoch 4/10\n",
            "585/585 [==============================] - 84s 144ms/step - loss: 0.0012 - accuracy: 0.9997\n",
            "Epoch 5/10\n",
            "585/585 [==============================] - 84s 144ms/step - loss: 3.2407e-04 - accuracy: 1.0000\n",
            "Epoch 6/10\n",
            "585/585 [==============================] - 84s 143ms/step - loss: 2.2167e-04 - accuracy: 1.0000\n",
            "Epoch 7/10\n",
            "585/585 [==============================] - 84s 144ms/step - loss: 3.5843e-05 - accuracy: 1.0000\n",
            "Epoch 8/10\n",
            "585/585 [==============================] - 84s 144ms/step - loss: 2.0117e-05 - accuracy: 1.0000\n",
            "Epoch 9/10\n",
            "585/585 [==============================] - 84s 144ms/step - loss: 1.6751e-05 - accuracy: 1.0000\n",
            "Epoch 10/10\n",
            "585/585 [==============================] - 84s 144ms/step - loss: 1.0385e-05 - accuracy: 1.0000\n"
          ],
          "name": "stdout"
        },
        {
          "output_type": "execute_result",
          "data": {
            "text/plain": [
              "<tensorflow.python.keras.callbacks.History at 0x7f2b5b01ae50>"
            ]
          },
          "metadata": {
            "tags": []
          },
          "execution_count": 126
        }
      ]
    },
    {
      "cell_type": "code",
      "metadata": {
        "colab": {
          "base_uri": "https://localhost:8080/",
          "height": 507
        },
        "id": "y3-yEj9-J_ez",
        "outputId": "5017993e-e63a-4eb9-c5dc-b9df6413fd1e"
      },
      "source": [
        "#analyze the results\n",
        "score, acc = model1.evaluate(X_test, Y_test, verbose = 2, batch_size=batch_size)\n",
        "y_pred1 = model1.predict(X_test)\n",
        "\n",
        "#ROC AUC curve\n",
        "rocAuc = roc_auc_score(Y_test, y_pred1)\n",
        "\n",
        "falsePositiveRate, truePositiveRate, _ = roc_curve(Y_test, y_pred1)\n",
        "\n",
        "plt.figure()\n",
        "\n",
        "plt.plot(falsePositiveRate, truePositiveRate, color='green',\n",
        "         lw=3, label='ROC curve (area = %0.2f)' % rocAuc)\n",
        "plt.plot([0, 1], [0, 1], color='navy', lw=3, linestyle='--')\n",
        "plt.xlim([0.0, 1.0])\n",
        "plt.ylim([0.0, 1.05])\n",
        "plt.xlabel('False Positive Rate')\n",
        "plt.ylabel('True Positive Rate')\n",
        "plt.title('Receiver Operating Characteristic of Fake News Analysis Model')\n",
        "plt.legend(loc=\"lower right\")\n",
        "plt.show()\n",
        "\n",
        "\n",
        "#Other accuracy metrices\n",
        "y_pred1 = (y_pred1 > 0.5)\n",
        "\n",
        "#confusion metrix\n",
        "cm1 = confusion_matrix(Y_test, y_pred1)\n",
        "print(cm1)\n",
        "\n",
        "#F1 Score, Recall and Precision\n",
        "print(classification_report(Y_test, y_pred1, target_names=['Fake', 'Real']))"
      ],
      "execution_count": null,
      "outputs": [
        {
          "output_type": "stream",
          "text": [
            "65/65 - 1s - loss: 0.6483 - accuracy: 0.9216\n"
          ],
          "name": "stdout"
        },
        {
          "output_type": "display_data",
          "data": {
            "image/png": "[encoded data removed]",
            "text/plain": [
              "<Figure size 432x288 with 1 Axes>"
            ]
          },
          "metadata": {
            "tags": []
          }
        },
        {
          "output_type": "stream",
          "text": [
            "[[999  72]\n",
            " [ 91 918]]\n",
            "              precision    recall  f1-score   support\n",
            "\n",
            "        Fake       0.92      0.93      0.92      1071\n",
            "        Real       0.93      0.91      0.92      1009\n",
            "\n",
            "    accuracy                           0.92      2080\n",
            "   macro avg       0.92      0.92      0.92      2080\n",
            "weighted avg       0.92      0.92      0.92      2080\n",
            "\n"
          ],
          "name": "stdout"
        }
      ]
    },
    {
      "cell_type": "markdown",
      "metadata": {
        "id": "NF56Ll47Xby2"
      },
      "source": [
        "CNN with Word2Vec"
      ]
    },
    {
      "cell_type": "code",
      "metadata": {
        "colab": {
          "base_uri": "https://localhost:8080/"
        },
        "id": "qnt_mFEfKd9t",
        "outputId": "503ca643-9e35-40f3-c18f-b07621964273"
      },
      "source": [
        "from tensorflow.keras import Sequential\n",
        "from tensorflow.keras.layers import Conv1D, Conv2D, Flatten, Dense, MaxPooling1D\n",
        "import tensorflow as tf\n",
        "import keras\n",
        "# define model\n",
        "vocab_size=5000\n",
        "model3 = Sequential()\n",
        "model3.add(embedding_layer)\n",
        "model3.add(Conv1D(filters=128, kernel_size=5, activation='relu'))\n",
        "model3.add(MaxPooling1D(pool_size=2))\n",
        "model3.add(Flatten())\n",
        "model3.add(Dense(1, activation='sigmoid'))\n",
        "print(model3.summary())\n",
        "\n",
        "# compile network\n",
        "model3.compile(loss='binary_crossentropy', optimizer='adam', metrics=['accuracy'])"
      ],
      "execution_count": null,
      "outputs": [
        {
          "output_type": "stream",
          "text": [
            "Model: \"sequential_5\"\n",
            "_________________________________________________________________\n",
            "Layer (type)                 Output Shape              Param #   \n",
            "=================================================================\n",
            "embedding_2 (Embedding)      (None, 40, 300)           15000000  \n",
            "_________________________________________________________________\n",
            "conv1d (Conv1D)              (None, 36, 128)           192128    \n",
            "_________________________________________________________________\n",
            "max_pooling1d (MaxPooling1D) (None, 18, 128)           0         \n",
            "_________________________________________________________________\n",
            "flatten (Flatten)            (None, 2304)              0         \n",
            "_________________________________________________________________\n",
            "dense_7 (Dense)              (None, 1)                 2305      \n",
            "=================================================================\n",
            "Total params: 15,194,433\n",
            "Trainable params: 15,194,433\n",
            "Non-trainable params: 0\n",
            "_________________________________________________________________\n",
            "None\n"
          ],
          "name": "stdout"
        }
      ]
    },
    {
      "cell_type": "code",
      "metadata": {
        "colab": {
          "base_uri": "https://localhost:8080/"
        },
        "id": "-HuNiddvXVkk",
        "outputId": "485321d1-84cd-4f3a-a042-a1d43b4bf0f5"
      },
      "source": [
        "#fit model\n",
        "batch_size = 32\n",
        "model3.fit(X_train, Y_train, epochs=10, verbose=1, batch_size=batch_size)"
      ],
      "execution_count": null,
      "outputs": [
        {
          "output_type": "stream",
          "text": [
            "Epoch 1/10\n",
            "585/585 [==============================] - 84s 141ms/step - loss: 0.0847 - accuracy: 0.9739\n",
            "Epoch 2/10\n",
            "585/585 [==============================] - 82s 141ms/step - loss: 6.4436e-04 - accuracy: 1.0000\n",
            "Epoch 3/10\n",
            "585/585 [==============================] - 82s 141ms/step - loss: 1.1209e-04 - accuracy: 1.0000\n",
            "Epoch 4/10\n",
            "585/585 [==============================] - 82s 140ms/step - loss: 4.6884e-05 - accuracy: 1.0000\n",
            "Epoch 5/10\n",
            "585/585 [==============================] - 82s 141ms/step - loss: 2.6885e-05 - accuracy: 1.0000\n",
            "Epoch 6/10\n",
            "585/585 [==============================] - 82s 140ms/step - loss: 1.8389e-05 - accuracy: 1.0000\n",
            "Epoch 7/10\n",
            "585/585 [==============================] - 82s 140ms/step - loss: 1.3089e-05 - accuracy: 1.0000\n",
            "Epoch 8/10\n",
            "585/585 [==============================] - 82s 140ms/step - loss: 8.3609e-06 - accuracy: 1.0000\n",
            "Epoch 9/10\n",
            "585/585 [==============================] - 82s 141ms/step - loss: 6.2603e-06 - accuracy: 1.0000\n",
            "Epoch 10/10\n",
            "585/585 [==============================] - 82s 141ms/step - loss: 4.3701e-06 - accuracy: 1.0000\n"
          ],
          "name": "stdout"
        },
        {
          "output_type": "execute_result",
          "data": {
            "text/plain": [
              "<tensorflow.python.keras.callbacks.History at 0x7f2b810631d0>"
            ]
          },
          "metadata": {
            "tags": []
          },
          "execution_count": 129
        }
      ]
    },
    {
      "cell_type": "code",
      "metadata": {
        "id": "SRkXPm7ZXVn-"
      },
      "source": [
        "#analyze the results\n",
        "score, acc = model3.evaluate(X_test, Y_test, verbose = 2, batch_size=batch_size)\n",
        "y_pred3 = model3.predict(X_test)\n",
        "\n",
        "#ROC AUC curve\n",
        "rocAuc = roc_auc_score(Y_test, y_pred3)\n",
        "\n",
        "falsePositiveRate, truePositiveRate, _ = roc_curve(Y_test, y_pred3)\n",
        "\n",
        "plt.figure()\n",
        "\n",
        "plt.plot(falsePositiveRate, truePositiveRate, color='green',\n",
        "         lw=3, label='ROC curve (area = %0.2f)' % rocAuc)\n",
        "plt.plot([0, 1], [0, 1], color='navy', lw=3, linestyle='--')\n",
        "plt.xlim([0.0, 1.0])\n",
        "plt.ylim([0.0, 1.05])\n",
        "plt.xlabel('False Positive Rate')\n",
        "plt.ylabel('True Positive Rate')\n",
        "plt.title('Receiver Operating Characteristic of Fake News Analysis Model')\n",
        "plt.legend(loc=\"lower right\")\n",
        "plt.show()\n",
        "\n",
        "\n",
        "#Other accuracy metrices\n",
        "y_pred3 = (y_pred3 > 0.5)\n",
        "\n",
        "#confusion metrix\n",
        "cm3 = confusion_matrix(Y_test, y_pred3)\n",
        "print(cm3)\n",
        "\n",
        "#F1 Score, Recall and Precision\n",
        "print(classification_report(Y_test, y_pred3, target_names=['Fake', 'Real']))"
      ],
      "execution_count": null,
      "outputs": []
    },
    {
      "cell_type": "code",
      "metadata": {
        "id": "421Pk4z4XVsR"
      },
      "source": [
        ""
      ],
      "execution_count": null,
      "outputs": []
    },
    {
      "cell_type": "markdown",
      "metadata": {
        "id": "3_Bvo_xDoTGg"
      },
      "source": [
        "LSTM-CNN with word2vec"
      ]
    },
    {
      "cell_type": "code",
      "metadata": {
        "id": "i6GUzLKpJ_i4"
      },
      "source": [
        "modelh = Sequential()\n",
        "modelh.add(embedding_layer)\n",
        "modelh.add(Conv1D(filters=128, kernel_size=5, activation='relu'))\n",
        "modelh.add(MaxPooling1D(pool_size=2))\n",
        "modelh.add(LSTM(100))\n",
        "modelh.add(Dense(1, activation='sigmoid'))\n",
        "\n",
        "# try using different optimizers and different optimizer configs\n",
        "\n",
        "modelh.compile(loss='binary_crossentropy',\n",
        "              optimizer='adam',\n",
        "              metrics=['accuracy'])\n",
        "\n",
        "print(modelh.summary())"
      ],
      "execution_count": null,
      "outputs": []
    },
    {
      "cell_type": "code",
      "metadata": {
        "colab": {
          "base_uri": "https://localhost:8080/"
        },
        "id": "X7WazSIkqC6l",
        "outputId": "17225ea6-7a11-4a61-db21-b69fb2536cf8"
      },
      "source": [
        "#fit model\n",
        "batch_size = 32\n",
        "modelh.fit(X_train, Y_train, epochs=10, verbose=1, batch_size=batch_size)"
      ],
      "execution_count": null,
      "outputs": [
        {
          "output_type": "stream",
          "text": [
            "Epoch 1/10\n",
            "585/585 [==============================] - 84s 141ms/step - loss: 0.0608 - accuracy: 0.9739\n",
            "Epoch 2/10\n",
            "585/585 [==============================] - 83s 141ms/step - loss: 0.0020 - accuracy: 0.9994\n",
            "Epoch 3/10\n",
            "585/585 [==============================] - 82s 141ms/step - loss: 6.1596e-05 - accuracy: 1.0000\n",
            "Epoch 4/10\n",
            "585/585 [==============================] - 83s 141ms/step - loss: 2.5370e-05 - accuracy: 1.0000\n",
            "Epoch 5/10\n",
            "585/585 [==============================] - 83s 141ms/step - loss: 1.4903e-05 - accuracy: 1.0000\n",
            "Epoch 6/10\n",
            "585/585 [==============================] - 82s 141ms/step - loss: 1.0400e-05 - accuracy: 1.0000\n",
            "Epoch 7/10\n",
            "585/585 [==============================] - 83s 141ms/step - loss: 7.0606e-06 - accuracy: 1.0000\n",
            "Epoch 8/10\n",
            "585/585 [==============================] - 83s 141ms/step - loss: 5.4954e-06 - accuracy: 1.0000\n",
            "Epoch 9/10\n",
            "585/585 [==============================] - 83s 141ms/step - loss: 3.8905e-06 - accuracy: 1.0000\n",
            "Epoch 10/10\n",
            "585/585 [==============================] - 82s 141ms/step - loss: 2.8009e-06 - accuracy: 1.0000\n"
          ],
          "name": "stdout"
        },
        {
          "output_type": "execute_result",
          "data": {
            "text/plain": [
              "<tensorflow.python.keras.callbacks.History at 0x7f2b5d1c5f90>"
            ]
          },
          "metadata": {
            "tags": []
          },
          "execution_count": 132
        }
      ]
    },
    {
      "cell_type": "code",
      "metadata": {
        "id": "kJVfN7y3oYA_"
      },
      "source": [
        "#analyze the results\n",
        "score, acc = modelh.evaluate(X_test, Y_test, verbose = 2, batch_size=batch_size)\n",
        "y_predh = modelh.predict(X_test)\n",
        "\n",
        "#ROC AUC curve\n",
        "rocAuc = roc_auc_score(Y_test, y_predh)\n",
        "\n",
        "falsePositiveRate, truePositiveRate, _ = roc_curve(Y_test, y_predh)\n",
        "\n",
        "plt.figure()\n",
        "\n",
        "plt.plot(falsePositiveRate, truePositiveRate, color='green',\n",
        "         lw=3, label='ROC curve (area = %0.2f)' % rocAuc)\n",
        "plt.plot([0, 1], [0, 1], color='navy', lw=3, linestyle='--')\n",
        "plt.xlim([0.0, 1.0])\n",
        "plt.ylim([0.0, 1.05])\n",
        "plt.xlabel('False Positive Rate')\n",
        "plt.ylabel('True Positive Rate')\n",
        "plt.title('Receiver Operating Characteristic of Fake News Analysis Model')\n",
        "plt.legend(loc=\"lower right\")\n",
        "plt.show()\n",
        "\n",
        "\n",
        "#Other accuracy metrices\n",
        "y_predh = (y_predh > 0.5)\n",
        "\n",
        "#confusion metrix\n",
        "cmh = confusion_matrix(Y_test, y_predh)\n",
        "print(cmh)\n",
        "\n",
        "#F1 Score, Recall and Precision\n",
        "print(classification_report(Y_test, y_predh, target_names=['Fake', 'Real']))"
      ],
      "execution_count": null,
      "outputs": []
    },
    {
      "cell_type": "code",
      "metadata": {
        "id": "MPB-UMw4oYFI"
      },
      "source": [
        ""
      ],
      "execution_count": null,
      "outputs": []
    },
    {
      "cell_type": "markdown",
      "metadata": {
        "id": "ZtOt-dFkoYtp"
      },
      "source": [
        "Bidirectional LSTM -CNN with word2vec"
      ]
    },
    {
      "cell_type": "code",
      "metadata": {
        "id": "ThUtgxIkoZXz"
      },
      "source": [
        "modelh1 = Sequential()\n",
        "modelh1.add(embedding_layer)\n",
        "modelh1.add(Conv1D(filters=128, kernel_size=5, activation='relu'))\n",
        "modelh1.add(MaxPooling1D(pool_size=2))\n",
        "modelh1.add(Bidirectional(LSTM(100)))\n",
        "modelh1.add(Dense(1, activation='sigmoid'))\n",
        "\n",
        "# try using different optimizers and different optimizer configs\n",
        "\n",
        "modelh1.compile(loss='binary_crossentropy',\n",
        "              optimizer='adam',\n",
        "              metrics=['accuracy'])\n",
        "\n",
        "print(modelh1.summary())"
      ],
      "execution_count": null,
      "outputs": []
    },
    {
      "cell_type": "code",
      "metadata": {
        "id": "xDzHZP3qofCI"
      },
      "source": [
        "#fit model\n",
        "batch_size = 32\n",
        "modelh1.fit(X_train, Y_train, epochs=10, verbose=1, batch_size=batch_size)"
      ],
      "execution_count": null,
      "outputs": []
    },
    {
      "cell_type": "code",
      "metadata": {
        "id": "55PR1HuyofGt",
        "colab": {
          "base_uri": "https://localhost:8080/",
          "height": 507
        },
        "outputId": "2a2f0710-9a98-41bd-d9f2-814f7231ae58"
      },
      "source": [
        "#analyze the results\n",
        "score, acc = modelh1.evaluate(X_test, Y_test, verbose = 2, batch_size=batch_size)\n",
        "y_predh1 = modelh1.predict(X_test)\n",
        "\n",
        "#ROC AUC curve\n",
        "rocAuc = roc_auc_score(Y_test, y_predh1)\n",
        "\n",
        "falsePositiveRate, truePositiveRate, _ = roc_curve(Y_test, y_predh1)\n",
        "\n",
        "plt.figure()\n",
        "\n",
        "plt.plot(falsePositiveRate, truePositiveRate, color='green',\n",
        "         lw=3, label='ROC curve (area = %0.2f)' % rocAuc)\n",
        "plt.plot([0, 1], [0, 1], color='navy', lw=3, linestyle='--')\n",
        "plt.xlim([0.0, 1.0])\n",
        "plt.ylim([0.0, 1.05])\n",
        "plt.xlabel('False Positive Rate')\n",
        "plt.ylabel('True Positive Rate')\n",
        "plt.title('Receiver Operating Characteristic of Fake News Analysis Model')\n",
        "plt.legend(loc=\"lower right\")\n",
        "plt.show()\n",
        "\n",
        "\n",
        "#Other accuracy metrices\n",
        "y_predh1 = (y_predh1 > 0.5)\n",
        "\n",
        "#confusion metrix\n",
        "cmh1 = confusion_matrix(Y_test, y_predh1)\n",
        "print(cmh1)\n",
        "\n",
        "#F1 Score, Recall and Precision\n",
        "print(classification_report(Y_test, y_predh1, target_names=['Fake', 'Real']))"
      ],
      "execution_count": null,
      "outputs": [
        {
          "output_type": "stream",
          "text": [
            "65/65 - 1s - loss: 0.6771 - accuracy: 0.9159\n"
          ],
          "name": "stdout"
        },
        {
          "output_type": "display_data",
          "data": {
            "image/png": "[encoded data removed]",
            "text/plain": [
              "<Figure size 432x288 with 1 Axes>"
            ]
          },
          "metadata": {
            "tags": []
          }
        },
        {
          "output_type": "stream",
          "text": [
            "[[975  96]\n",
            " [ 79 930]]\n",
            "              precision    recall  f1-score   support\n",
            "\n",
            "        Fake       0.93      0.91      0.92      1071\n",
            "        Real       0.91      0.92      0.91      1009\n",
            "\n",
            "    accuracy                           0.92      2080\n",
            "   macro avg       0.92      0.92      0.92      2080\n",
            "weighted avg       0.92      0.92      0.92      2080\n",
            "\n"
          ],
          "name": "stdout"
        }
      ]
    },
    {
      "cell_type": "code",
      "metadata": {
        "id": "0K-GWyuEoZbT"
      },
      "source": [
        ""
      ],
      "execution_count": null,
      "outputs": []
    },
    {
      "cell_type": "markdown",
      "metadata": {
        "id": "Z3aeA8VlSS12"
      },
      "source": [
        "Basic LSTM With pre-trained Glove embeddings"
      ]
    },
    {
      "cell_type": "markdown",
      "metadata": {
        "id": "v5d6yXcvFag7"
      },
      "source": [
        "GloVe is another kind of word vector representaiton proposed by Pennington et al. (2014) from the Stanford NLP Group.\n",
        "\n",
        "https://nlp.stanford.edu/pubs/glove.pdf\n",
        "The difference between Word2Vec and Glove is how the models compute the word vectors. In Word2Vec, the word vectors can be seen as a by-product of shallow neural network, when it tries to predict either centre word given surrounding words or vice versa.\n",
        "\n",
        "GloVe word vectors are the object matrix of GloVe model which is calculated by using co-occurrence matrix and dimensionality reduction.\n",
        "\n",
        "Now we will extract the Word vectors from pre-trained GloVe."
      ]
    },
    {
      "cell_type": "code",
      "metadata": {
        "id": "gN2h-Nq05h8I"
      },
      "source": [
        "y=np.array(y)"
      ],
      "execution_count": null,
      "outputs": []
    },
    {
      "cell_type": "code",
      "metadata": {
        "id": "ijhRTQQIFeiD"
      },
      "source": [
        "vocab_size = 5000\n",
        "maxlen = 100\n",
        "batch_size = 64\n",
        "epochs = 10\n",
        "embedding_type = 'glove_embed_tokenizer'\n",
        "\n",
        "seed = 21\n",
        "np.random.seed(seed)"
      ],
      "execution_count": null,
      "outputs": []
    },
    {
      "cell_type": "code",
      "metadata": {
        "id": "t19d2LwIFlCV"
      },
      "source": [
        "%time\n",
        "\n",
        "# Splitting data into train, test & validation sets\n",
        "x_train, x_val_test, y_train, y_val_test = train_test_split(\n",
        "    corpus, y, test_size=.4, stratify=y, random_state=seed)\n",
        "\n",
        "x_val, x_test, y_val, y_test = train_test_split(\n",
        "    x_val_test, y_val_test, test_size=.6, stratify=y_val_test, random_state=seed)"
      ],
      "execution_count": null,
      "outputs": []
    },
    {
      "cell_type": "code",
      "metadata": {
        "id": "sRfDmvT0NDh8",
        "colab": {
          "base_uri": "https://localhost:8080/"
        },
        "outputId": "89b86cb2-f58e-4a8a-9807-6d5029aa8ce4"
      },
      "source": [
        "!wget http://nlp.stanford.edu/data/glove.6B.zip"
      ],
      "execution_count": null,
      "outputs": [
        {
          "output_type": "stream",
          "text": [
            "--2021-03-29 13:59:00--  http://nlp.stanford.edu/data/glove.6B.zip\n",
            "Resolving nlp.stanford.edu (nlp.stanford.edu)... 171.64.67.140\n",
            "Connecting to nlp.stanford.edu (nlp.stanford.edu)|171.64.67.140|:80... connected.\n",
            "HTTP request sent, awaiting response... 302 Found\n",
            "Location: https://nlp.stanford.edu/data/glove.6B.zip [following]\n",
            "--2021-03-29 13:59:00--  https://nlp.stanford.edu/data/glove.6B.zip\n",
            "Connecting to nlp.stanford.edu (nlp.stanford.edu)|171.64.67.140|:443... connected.\n",
            "HTTP request sent, awaiting response... 301 Moved Permanently\n",
            "Location: http://downloads.cs.stanford.edu/nlp/data/glove.6B.zip [following]\n",
            "--2021-03-29 13:59:01--  http://downloads.cs.stanford.edu/nlp/data/glove.6B.zip\n",
            "Resolving downloads.cs.stanford.edu (downloads.cs.stanford.edu)... 171.64.64.22\n",
            "Connecting to downloads.cs.stanford.edu (downloads.cs.stanford.edu)|171.64.64.22|:80... connected.\n",
            "HTTP request sent, awaiting response... 200 OK\n",
            "Length: 862182613 (822M) [application/zip]\n",
            "Saving to: ‘glove.6B.zip.2’\n",
            "\n",
            "glove.6B.zip.2      100%[===================>] 822.24M  5.06MB/s    in 2m 40s  \n",
            "\n",
            "2021-03-29 14:01:41 (5.13 MB/s) - ‘glove.6B.zip.2’ saved [862182613/862182613]\n",
            "\n"
          ],
          "name": "stdout"
        }
      ]
    },
    {
      "cell_type": "code",
      "metadata": {
        "id": "1TT1O0LGNiN5"
      },
      "source": [
        "!unzip glove*.zip"
      ],
      "execution_count": null,
      "outputs": []
    },
    {
      "cell_type": "code",
      "metadata": {
        "id": "fqD3ikD9NiRQ"
      },
      "source": [
        "!ls\n",
        "!pwd"
      ],
      "execution_count": null,
      "outputs": []
    },
    {
      "cell_type": "code",
      "metadata": {
        "id": "opBfpW7mFqfH"
      },
      "source": [
        "# Create the tokenizer & fit on all the url texts\n",
        "\n",
        "tokenizer = Tokenizer(num_words=vocab_size, lower=True)\n",
        "tokenizer.fit_on_texts(x_train)\n",
        "\n",
        "\n",
        "# Generating sequences & padding for efficient training of our neural network\n",
        "# Transforms each text in texts to a sequence of integers.\n",
        "from keras.preprocessing import sequence\n",
        "train_sequences = tokenizer.texts_to_sequences(x_train)\n",
        "train_padded_sequences = sequence.pad_sequences(train_sequences, maxlen=maxlen)\n",
        "\n",
        "val_sequences = tokenizer.texts_to_sequences(x_val)\n",
        "val_padded_sequences = sequence.pad_sequences(val_sequences, maxlen=maxlen)\n",
        "\n",
        "test_sequences = tokenizer.texts_to_sequences(x_test)\n",
        "test_padded_sequences = sequence.pad_sequences(test_sequences, maxlen=maxlen)\n",
        "\n",
        "del x_train, train_sequences, x_val, val_sequences, x_test, test_sequences"
      ],
      "execution_count": null,
      "outputs": []
    },
    {
      "cell_type": "code",
      "metadata": {
        "id": "OpNNTatJFqjJ"
      },
      "source": [
        "\n",
        "# Load Glove embeddings\n",
        "\n",
        "print('Indexing word vectors.')\n",
        "\n",
        "embeddings_index = {}\n",
        "f = open('glove.6B.100d.txt', encoding='utf-8')\n",
        "for line in f:\n",
        "    values = line.split()\n",
        "    word = values[0]\n",
        "    coefs = np.asarray(values[1:], dtype='float32')\n",
        "    embeddings_index[word] = coefs\n",
        "f.close()\n",
        "\n",
        "print('Found %s word vectors.' % len(embeddings_index))\n",
        "\n",
        "# print('Loaded %s Glove word vectors.' % len(embeddings_index))\n",
        "import pickle\n",
        "pickle.dump({'embeddings_index' : embeddings_index } , open('drive', 'wb'))\n",
        "\n",
        "# Create a weight matrix for all the words\n",
        "\n",
        "print('\\nMapping words to Glove embeddings ...')\n",
        "embedding_matrix = np.zeros((vocab_size, maxlen))\n",
        "\n",
        "for word, index in tokenizer.word_index.items():\n",
        "    if index > vocab_size - 1:\n",
        "        break\n",
        "    else:\n",
        "        embedding_vector = embeddings_index.get(word)\n",
        "        if embedding_vector is not None:\n",
        "            embedding_matrix[index] = embedding_vector\n",
        "\n",
        "print('Shape of Embedding Matrix: ', embedding_matrix.shape)\n",
        "print('Glove Mapping done.')"
      ],
      "execution_count": null,
      "outputs": []
    },
    {
      "cell_type": "code",
      "metadata": {
        "id": "YOANAGK1Fql_"
      },
      "source": [
        "# Fixing the seed again\n",
        "np.random.seed(seed)\n",
        "\n",
        "print('\\n\\nBuild model ...')\n",
        "model = Sequential()\n",
        "model.add(Embedding(vocab_size, 100, input_length=maxlen,\n",
        "                    weights=[embedding_matrix], trainable=False))\n",
        "model.add(LSTM(maxlen, dropout=0.2, recurrent_dropout=0.2))\n",
        "model.add(Dense(1, activation='sigmoid'))\n",
        "\n",
        "# try using different optimizers and different optimizer configs\n",
        "\n",
        "model.compile(loss='binary_crossentropy',\n",
        "              optimizer='adam',\n",
        "              metrics=['accuracy'])\n",
        "\n",
        "print(model.summary())"
      ],
      "execution_count": null,
      "outputs": []
    },
    {
      "cell_type": "code",
      "metadata": {
        "id": "asbs59Z0q1AJ"
      },
      "source": [
        "train_padded_sequences.shape, y_train.shape,val_padded_sequences.shape, y_val.shape"
      ],
      "execution_count": null,
      "outputs": []
    },
    {
      "cell_type": "code",
      "metadata": {
        "id": "tZ4sDUt6r47l",
        "colab": {
          "base_uri": "https://localhost:8080/"
        },
        "outputId": "ffd5aca5-1f18-416d-f35f-b3f06538ed30"
      },
      "source": [
        "train_padded_sequences"
      ],
      "execution_count": null,
      "outputs": [
        {
          "output_type": "execute_result",
          "data": {
            "text/plain": [
              "array([[   0,    0,    0, ...,    1,    3,    2],\n",
              "       [   0,    0,    0, ...,    0,  754,  792],\n",
              "       [   0,    0,    0, ..., 4707,   66, 1197],\n",
              "       ...,\n",
              "       [   0,    0,    0, ...,  276,  412,    5],\n",
              "       [   0,    0,    0, ...,    1,    3,    2],\n",
              "       [   0,    0,    0, ...,  427,  257, 2347]], dtype=int32)"
            ]
          },
          "metadata": {
            "tags": []
          },
          "execution_count": 147
        }
      ]
    },
    {
      "cell_type": "code",
      "metadata": {
        "id": "grrWn3TQuUdN"
      },
      "source": [
        "# y_train = np.asarray(y_train).astype('float32').reshape((-1,1))\n",
        "# y_val = np.asarray(y_val).astype('float32').reshape((-1,1))"
      ],
      "execution_count": null,
      "outputs": []
    },
    {
      "cell_type": "code",
      "metadata": {
        "id": "phKyrdiaukuf"
      },
      "source": [
        "y_train"
      ],
      "execution_count": null,
      "outputs": []
    },
    {
      "cell_type": "code",
      "metadata": {
        "id": "jIruPu1Lunha",
        "colab": {
          "base_uri": "https://localhost:8080/"
        },
        "outputId": "a8e04b6f-7723-4551-a8e2-9b1cfea9f93e"
      },
      "source": [
        "y_val"
      ],
      "execution_count": null,
      "outputs": [
        {
          "output_type": "execute_result",
          "data": {
            "text/plain": [
              "array([0, 1, 0, ..., 0, 1, 1])"
            ]
          },
          "metadata": {
            "tags": []
          },
          "execution_count": 150
        }
      ]
    },
    {
      "cell_type": "code",
      "metadata": {
        "id": "N6Vm9JZmrOQg",
        "colab": {
          "base_uri": "https://localhost:8080/"
        },
        "outputId": "e1c8409f-d93a-4479-dceb-2a66888afd68"
      },
      "source": [
        "print('Training starts...')\n",
        "model.fit(train_padded_sequences, y_train,\n",
        "          batch_size=batch_size,\n",
        "          epochs=epochs,\n",
        "          validation_data=(val_padded_sequences, y_val),verbose=2)"
      ],
      "execution_count": null,
      "outputs": [
        {
          "output_type": "stream",
          "text": [
            "Training starts...\n",
            "Epoch 1/10\n",
            "195/195 - 27s - loss: 0.2785 - accuracy: 0.8907 - val_loss: 0.2296 - val_accuracy: 0.9135\n",
            "Epoch 2/10\n",
            "195/195 - 25s - loss: 0.2082 - accuracy: 0.9179 - val_loss: 0.2044 - val_accuracy: 0.9147\n",
            "Epoch 3/10\n",
            "195/195 - 25s - loss: 0.1886 - accuracy: 0.9231 - val_loss: 0.1973 - val_accuracy: 0.9246\n",
            "Epoch 4/10\n",
            "195/195 - 25s - loss: 0.1732 - accuracy: 0.9293 - val_loss: 0.1966 - val_accuracy: 0.9225\n",
            "Epoch 5/10\n",
            "195/195 - 25s - loss: 0.1626 - accuracy: 0.9338 - val_loss: 0.1906 - val_accuracy: 0.9237\n",
            "Epoch 6/10\n",
            "195/195 - 25s - loss: 0.1510 - accuracy: 0.9403 - val_loss: 0.1878 - val_accuracy: 0.9267\n",
            "Epoch 7/10\n",
            "195/195 - 25s - loss: 0.1425 - accuracy: 0.9427 - val_loss: 0.1872 - val_accuracy: 0.9252\n",
            "Epoch 8/10\n",
            "195/195 - 25s - loss: 0.1287 - accuracy: 0.9490 - val_loss: 0.1824 - val_accuracy: 0.9297\n",
            "Epoch 9/10\n",
            "195/195 - 25s - loss: 0.1187 - accuracy: 0.9526 - val_loss: 0.1861 - val_accuracy: 0.9297\n",
            "Epoch 10/10\n",
            "195/195 - 25s - loss: 0.1075 - accuracy: 0.9579 - val_loss: 0.1909 - val_accuracy: 0.9309\n"
          ],
          "name": "stdout"
        },
        {
          "output_type": "execute_result",
          "data": {
            "text/plain": [
              "<tensorflow.python.keras.callbacks.History at 0x7f2a3c25bb10>"
            ]
          },
          "metadata": {
            "tags": []
          },
          "execution_count": 151
        }
      ]
    },
    {
      "cell_type": "code",
      "metadata": {
        "id": "OAMbltl8Feli"
      },
      "source": [
        "score, acc = model.evaluate(test_padded_sequences, y_test, verbose = 2, batch_size=batch_size)\n",
        "y_pred = model.predict(test_padded_sequences)"
      ],
      "execution_count": null,
      "outputs": []
    },
    {
      "cell_type": "code",
      "metadata": {
        "id": "c6nGqcCV77Cb"
      },
      "source": [
        "#ROC AUC curve\n",
        "rocAuc = roc_auc_score(y_test, y_pred)\n",
        "\n",
        "falsePositiveRate, truePositiveRate, _ = roc_curve(y_test, y_pred)\n",
        "\n",
        "plt.figure()\n",
        "\n",
        "plt.plot(falsePositiveRate, truePositiveRate, color='green',\n",
        "         lw=3, label='ROC curve (area = %0.2f)' % rocAuc)\n",
        "plt.plot([0, 1], [0, 1], color='navy', lw=3, linestyle='--')\n",
        "plt.xlim([0.0, 1.0])\n",
        "plt.ylim([0.0, 1.05])\n",
        "plt.xlabel('False Positive Rate')\n",
        "plt.ylabel('True Positive Rate')\n",
        "plt.title('Receiver Operating Characteristic of Fake News Model')\n",
        "plt.legend(loc=\"lower right\")\n",
        "plt.show()\n",
        "\n",
        "\n",
        "#Other accuracy metrices\n",
        "y_pred = (y_pred > 0.5)\n",
        "\n",
        "#confusion metrix\n",
        "cm = confusion_matrix(y_test, y_pred)\n",
        "print(cm)\n",
        "\n",
        "#F1 Score, Recall and Precision\n",
        "print(classification_report(y_test, y_pred, target_names=['Fake', 'Real']))"
      ],
      "execution_count": null,
      "outputs": []
    },
    {
      "cell_type": "code",
      "metadata": {
        "id": "xG-tDafh77Fj"
      },
      "source": [
        ""
      ],
      "execution_count": null,
      "outputs": []
    },
    {
      "cell_type": "code",
      "metadata": {
        "id": "gtQS52Ry77JZ"
      },
      "source": [
        ""
      ],
      "execution_count": null,
      "outputs": []
    },
    {
      "cell_type": "markdown",
      "metadata": {
        "id": "KcvXlNWG-2dp"
      },
      "source": [
        "## 10. Bidirectional-LSTM"
      ]
    },
    {
      "cell_type": "markdown",
      "metadata": {
        "id": "-3tfeWMf_odR"
      },
      "source": [
        "Bidirectional LSTM With glove embedding"
      ]
    },
    {
      "cell_type": "code",
      "metadata": {
        "id": "okZAgAOj_np0"
      },
      "source": [
        "# Fixing the seed again\n",
        "np.random.seed(seed)\n",
        "\n",
        "print('\\n\\nBuild model ...')\n",
        "model1 = Sequential()\n",
        "model1.add(Embedding(vocab_size, 100, input_length=maxlen,\n",
        "                    weights=[embedding_matrix], trainable=False))\n",
        "model1.add(Bidirectional(LSTM(maxlen, dropout=0.2, recurrent_dropout=0.2)))\n",
        "model1.add(Dense(1, activation='sigmoid'))\n",
        "\n",
        "# try using different optimizers and different optimizer configs\n",
        "\n",
        "model1.compile(loss='binary_crossentropy',\n",
        "              optimizer='adam',\n",
        "              metrics=['accuracy'])\n",
        "\n",
        "print(model1.summary())"
      ],
      "execution_count": null,
      "outputs": []
    },
    {
      "cell_type": "code",
      "metadata": {
        "id": "5ypu4wPv_nte"
      },
      "source": [
        "print('Training starts...')\n",
        "model1.fit(train_padded_sequences, y_train,\n",
        "          batch_size=batch_size,\n",
        "          epochs=epochs,\n",
        "          validation_data=(val_padded_sequences, y_val),verbose=2)"
      ],
      "execution_count": null,
      "outputs": []
    },
    {
      "cell_type": "code",
      "metadata": {
        "id": "bXsYXF0f_nyJ"
      },
      "source": [
        "score, acc = model1.evaluate(test_padded_sequences, y_test, verbose = 2, batch_size=batch_size)\n",
        "y_pred1 = model1.predict(test_padded_sequences)"
      ],
      "execution_count": null,
      "outputs": []
    },
    {
      "cell_type": "code",
      "metadata": {
        "id": "rI1nL9HF_n1a"
      },
      "source": [
        "#ROC AUC curve\n",
        "rocAuc = roc_auc_score(y_test, y_pred1)\n",
        "\n",
        "falsePositiveRate, truePositiveRate, _ = roc_curve(y_test, y_pred1)\n",
        "\n",
        "plt.figure()\n",
        "\n",
        "plt.plot(falsePositiveRate, truePositiveRate, color='green',\n",
        "         lw=3, label='ROC curve (area = %0.2f)' % rocAuc)\n",
        "plt.plot([0, 1], [0, 1], color='navy', lw=3, linestyle='--')\n",
        "plt.xlim([0.0, 1.0])\n",
        "plt.ylim([0.0, 1.05])\n",
        "plt.xlabel('False Positive Rate')\n",
        "plt.ylabel('True Positive Rate')\n",
        "plt.title('Receiver Operating Characteristic of Fake News Model')\n",
        "plt.legend(loc=\"lower right\")\n",
        "plt.show()\n",
        "\n",
        "\n",
        "#Other accuracy metrices\n",
        "y_pred1 = (y_pred1 > 0.5)\n",
        "\n",
        "#confusion metrix\n",
        "cm1 = confusion_matrix(y_test, y_pred1)\n",
        "print(cm1)\n",
        "\n",
        "#F1 Score, Recall and Precision\n",
        "print(classification_report(y_test, y_pred1, target_names=['Fake', 'Real']))"
      ],
      "execution_count": null,
      "outputs": []
    },
    {
      "cell_type": "markdown",
      "metadata": {
        "id": "KkFMSj4fe_QW"
      },
      "source": [
        "CNN with glove embedding"
      ]
    },
    {
      "cell_type": "code",
      "metadata": {
        "id": "7Dt3gSRr_n4x"
      },
      "source": [
        "# Fixing the seed again\n",
        "np.random.seed(seed)\n",
        "\n",
        "print('\\n\\nBuild model ...')\n",
        "model4 = Sequential()\n",
        "model4.add(Embedding(vocab_size, 100, input_length=maxlen,\n",
        "                    weights=[embedding_matrix], trainable=False))\n",
        "model4.add(Conv1D(filters=128, kernel_size=5, activation='relu'))\n",
        "model4.add(MaxPooling1D(pool_size=2))\n",
        "model4.add(Flatten())\n",
        "model4.add(Dense(1, activation='sigmoid'))\n",
        "\n",
        "# try using different optimizers and different optimizer configs\n",
        "\n",
        "model4.compile(loss='binary_crossentropy',\n",
        "              optimizer='adam',\n",
        "              metrics=['accuracy'])\n",
        "\n",
        "print(model4.summary())"
      ],
      "execution_count": null,
      "outputs": []
    },
    {
      "cell_type": "code",
      "metadata": {
        "colab": {
          "base_uri": "https://localhost:8080/"
        },
        "id": "a4Gdv1Bge9kL",
        "outputId": "392795fb-852e-44b0-d281-0f69660bf9f9"
      },
      "source": [
        "print('Training starts...')\n",
        "model4.fit(train_padded_sequences, y_train,\n",
        "          batch_size=batch_size,\n",
        "          epochs=epochs,\n",
        "          validation_data=(val_padded_sequences, y_val),verbose=2)"
      ],
      "execution_count": null,
      "outputs": [
        {
          "output_type": "stream",
          "text": [
            "Training starts...\n",
            "Epoch 1/10\n",
            "195/195 - 1s - loss: 0.2990 - accuracy: 0.8728 - val_loss: 0.2287 - val_accuracy: 0.9120\n",
            "Epoch 2/10\n",
            "195/195 - 1s - loss: 0.1837 - accuracy: 0.9261 - val_loss: 0.2105 - val_accuracy: 0.9177\n",
            "Epoch 3/10\n",
            "195/195 - 1s - loss: 0.1400 - accuracy: 0.9460 - val_loss: 0.2094 - val_accuracy: 0.9147\n",
            "Epoch 4/10\n",
            "195/195 - 1s - loss: 0.1076 - accuracy: 0.9611 - val_loss: 0.2155 - val_accuracy: 0.9207\n",
            "Epoch 5/10\n",
            "195/195 - 1s - loss: 0.0765 - accuracy: 0.9759 - val_loss: 0.2181 - val_accuracy: 0.9210\n",
            "Epoch 6/10\n",
            "195/195 - 1s - loss: 0.0510 - accuracy: 0.9873 - val_loss: 0.2309 - val_accuracy: 0.9093\n",
            "Epoch 7/10\n",
            "195/195 - 1s - loss: 0.0336 - accuracy: 0.9954 - val_loss: 0.2393 - val_accuracy: 0.9192\n",
            "Epoch 8/10\n",
            "195/195 - 1s - loss: 0.0217 - accuracy: 0.9979 - val_loss: 0.2608 - val_accuracy: 0.9201\n",
            "Epoch 9/10\n",
            "195/195 - 1s - loss: 0.0152 - accuracy: 0.9987 - val_loss: 0.2529 - val_accuracy: 0.9147\n",
            "Epoch 10/10\n",
            "195/195 - 1s - loss: 0.0107 - accuracy: 0.9994 - val_loss: 0.2695 - val_accuracy: 0.9195\n"
          ],
          "name": "stdout"
        },
        {
          "output_type": "execute_result",
          "data": {
            "text/plain": [
              "<tensorflow.python.keras.callbacks.History at 0x7f2b5ffd3a50>"
            ]
          },
          "metadata": {
            "tags": []
          },
          "execution_count": 159
        }
      ]
    },
    {
      "cell_type": "code",
      "metadata": {
        "id": "Xc-Vh5mEe9nx"
      },
      "source": [
        "score, acc = model4.evaluate(test_padded_sequences, y_test, verbose = 2, batch_size=batch_size)\n",
        "y_pred4 = model4.predict(test_padded_sequences)"
      ],
      "execution_count": null,
      "outputs": []
    },
    {
      "cell_type": "code",
      "metadata": {
        "id": "WECrmEkfe9vh"
      },
      "source": [
        ""
      ],
      "execution_count": null,
      "outputs": []
    },
    {
      "cell_type": "markdown",
      "metadata": {
        "id": "RhM4bl7ie-Fz"
      },
      "source": [
        "LSTM-CNN with glove embedding"
      ]
    },
    {
      "cell_type": "code",
      "metadata": {
        "id": "riMGofbYgR0b"
      },
      "source": [
        "# Fixing the seed again\n",
        "np.random.seed(seed)\n",
        "\n",
        "print('\\n\\nBuild model ...')\n",
        "model5 = Sequential()\n",
        "model5.add(Embedding(vocab_size, 100, input_length=maxlen,\n",
        "                    weights=[embedding_matrix], trainable=False))\n",
        "model5.add(Conv1D(filters=128, kernel_size=5, activation='relu'))\n",
        "model5.add(MaxPooling1D(pool_size=2))\n",
        "model5.add(LSTM(100))\n",
        "model5.add(Dense(1, activation='sigmoid'))\n",
        "\n",
        "# try using different optimizers and different optimizer configs\n",
        "\n",
        "model5.compile(loss='binary_crossentropy',\n",
        "              optimizer='adam',\n",
        "              metrics=['accuracy'])\n",
        "\n",
        "print(model5.summary())"
      ],
      "execution_count": null,
      "outputs": []
    },
    {
      "cell_type": "code",
      "metadata": {
        "id": "Lar1POr6gR4y"
      },
      "source": [
        "print('Training starts...')\n",
        "model5.fit(train_padded_sequences, y_train,\n",
        "          batch_size=batch_size,\n",
        "          epochs=epochs,\n",
        "          validation_data=(val_padded_sequences, y_val),verbose=2)"
      ],
      "execution_count": null,
      "outputs": []
    },
    {
      "cell_type": "code",
      "metadata": {
        "id": "kq1BTOkCgR74"
      },
      "source": [
        "score, acc = model5.evaluate(test_padded_sequences, y_test, verbose = 2, batch_size=batch_size)\n",
        "y_pred5 = model5.predict(test_padded_sequences)"
      ],
      "execution_count": null,
      "outputs": []
    },
    {
      "cell_type": "code",
      "metadata": {
        "id": "7eszSG6sloqH"
      },
      "source": [
        ""
      ],
      "execution_count": null,
      "outputs": []
    },
    {
      "cell_type": "code",
      "metadata": {
        "id": "BdENeWjBl54m"
      },
      "source": [
        ""
      ],
      "execution_count": null,
      "outputs": []
    },
    {
      "cell_type": "markdown",
      "metadata": {
        "id": "RoCHkc5Nl6Nu"
      },
      "source": [
        "Bidirectional LSTM + CNN with glove embedding"
      ]
    },
    {
      "cell_type": "code",
      "metadata": {
        "colab": {
          "base_uri": "https://localhost:8080/"
        },
        "id": "VQHQgcydlotp",
        "outputId": "2a6baa58-d72c-4ce0-db53-afa446796c33"
      },
      "source": [
        "# Fixing the seed again\n",
        "np.random.seed(seed)\n",
        "\n",
        "print('\\n\\nBuild model ...')\n",
        "model6 = Sequential()\n",
        "model6.add(Embedding(vocab_size, 100, input_length=maxlen,\n",
        "                    weights=[embedding_matrix], trainable=False))\n",
        "model6.add(Conv1D(filters=128, kernel_size=5, activation='relu'))\n",
        "model6.add(MaxPooling1D(pool_size=2))\n",
        "model6.add(Bidirectional(LSTM(100)))\n",
        "model6.add(Dense(1, activation='sigmoid'))\n",
        "\n",
        "# try using different optimizers and different optimizer configs\n",
        "\n",
        "model6.compile(loss='binary_crossentropy',\n",
        "              optimizer='adam',\n",
        "              metrics=['accuracy'])\n",
        "\n",
        "print(model6.summary())"
      ],
      "execution_count": null,
      "outputs": [
        {
          "output_type": "stream",
          "text": [
            "\n",
            "\n",
            "Build model ...\n",
            "Model: \"sequential_12\"\n",
            "_________________________________________________________________\n",
            "Layer (type)                 Output Shape              Param #   \n",
            "=================================================================\n",
            "embedding_7 (Embedding)      (None, 100, 100)          500000    \n",
            "_________________________________________________________________\n",
            "conv1d_5 (Conv1D)            (None, 96, 128)           64128     \n",
            "_________________________________________________________________\n",
            "max_pooling1d_5 (MaxPooling1 (None, 48, 128)           0         \n",
            "_________________________________________________________________\n",
            "bidirectional_3 (Bidirection (None, 200)               183200    \n",
            "_________________________________________________________________\n",
            "dense_14 (Dense)             (None, 1)                 201       \n",
            "=================================================================\n",
            "Total params: 747,529\n",
            "Trainable params: 247,529\n",
            "Non-trainable params: 500,000\n",
            "_________________________________________________________________\n",
            "None\n"
          ],
          "name": "stdout"
        }
      ]
    },
    {
      "cell_type": "code",
      "metadata": {
        "id": "gYigrVOqmA6_"
      },
      "source": [
        "print('Training starts...')\n",
        "model6.fit(train_padded_sequences, y_train,\n",
        "          batch_size=batch_size,\n",
        "          epochs=epochs,\n",
        "          validation_data=(val_padded_sequences, y_val),verbose=2)"
      ],
      "execution_count": null,
      "outputs": []
    },
    {
      "cell_type": "code",
      "metadata": {
        "id": "mI8CxNcPmA_7"
      },
      "source": [
        "score, acc = model6.evaluate(test_padded_sequences, y_test, verbose = 2, batch_size=batch_size)\n",
        "y_pred6 = model6.predict(test_padded_sequences)"
      ],
      "execution_count": null,
      "outputs": []
    },
    {
      "cell_type": "code",
      "metadata": {
        "id": "n7QRbsjom8_D"
      },
      "source": [
        ""
      ],
      "execution_count": null,
      "outputs": []
    },
    {
      "cell_type": "markdown",
      "metadata": {
        "id": "uPlmflqHSdDT"
      },
      "source": [
        "Bidirectional LSTM With one-hot encoding"
      ]
    },
    {
      "cell_type": "code",
      "metadata": {
        "id": "kRiiKEuTqv-z"
      },
      "source": [
        "### Vocabulary size\n",
        "voc_size=5000\n",
        "#one  hot representation\n",
        "onehot_repr=[one_hot(words,voc_size)for words in corpus] \n",
        "#Panding\n",
        "sent_length=20\n",
        "embedded_docs=pad_sequences(onehot_repr,padding='pre',maxlen=sent_length)\n",
        "print(embedded_docs)"
      ],
      "execution_count": null,
      "outputs": []
    },
    {
      "cell_type": "code",
      "metadata": {
        "id": "xeb_ryaerw5v"
      },
      "source": [
        "import numpy as np\n",
        "X_final=np.array(embedded_docs)\n",
        "y_final=np.array(y)\n",
        "#splitting\n",
        "from sklearn.model_selection import train_test_split\n",
        "X_train, X_test, y_train, y_test = train_test_split(X_final, y_final, test_size=0.33, random_state=42)"
      ],
      "execution_count": null,
      "outputs": []
    },
    {
      "cell_type": "code",
      "metadata": {
        "id": "moIWQl22_Ar4",
        "colab": {
          "base_uri": "https://localhost:8080/"
        },
        "outputId": "4df54175-07aa-4e2e-a6ad-c12232749261"
      },
      "source": [
        "## Creating model\n",
        "from tensorflow.keras.layers import Bidirectional\n",
        "embedding_vector_features=40\n",
        "model1=Sequential()\n",
        "model1.add(Embedding(voc_size,embedding_vector_features,input_length=sent_length))\n",
        "model1.add(Bidirectional(LSTM(100)))\n",
        "model1.add(Dropout(0.3))\n",
        "model1.add(Dense(1,activation='sigmoid'))\n",
        "model1.compile(loss='binary_crossentropy',optimizer='adam',metrics=['accuracy'])\n",
        "print(model1.summary())"
      ],
      "execution_count": null,
      "outputs": [
        {
          "output_type": "stream",
          "text": [
            "Model: \"sequential_13\"\n",
            "_________________________________________________________________\n",
            "Layer (type)                 Output Shape              Param #   \n",
            "=================================================================\n",
            "embedding_8 (Embedding)      (None, 20, 40)            200000    \n",
            "_________________________________________________________________\n",
            "bidirectional_4 (Bidirection (None, 200)               112800    \n",
            "_________________________________________________________________\n",
            "dropout_5 (Dropout)          (None, 200)               0         \n",
            "_________________________________________________________________\n",
            "dense_15 (Dense)             (None, 1)                 201       \n",
            "=================================================================\n",
            "Total params: 313,001\n",
            "Trainable params: 313,001\n",
            "Non-trainable params: 0\n",
            "_________________________________________________________________\n",
            "None\n"
          ],
          "name": "stdout"
        }
      ]
    },
    {
      "cell_type": "code",
      "metadata": {
        "id": "9vR0upuC_BEW"
      },
      "source": [
        "### Training Bidirectional LSTM\n",
        "model1.fit(X_train,y_train,validation_data=(X_test,y_test),epochs=10,batch_size=64)"
      ],
      "execution_count": null,
      "outputs": []
    },
    {
      "cell_type": "code",
      "metadata": {
        "id": "9j4iw8XvKJca"
      },
      "source": [
        "#Performance Metrics And Accuracy\n",
        "y_pred1=model1.predict_classes(X_test)\n",
        "from sklearn.metrics import confusion_matrix\n",
        "confusion_matrix(y_test,y_pred1)"
      ],
      "execution_count": null,
      "outputs": []
    },
    {
      "cell_type": "code",
      "metadata": {
        "id": "HZ5X04KEKYbF"
      },
      "source": [
        "from sklearn.metrics import accuracy_score\n",
        "accuracy_score(y_test,y_pred1)"
      ],
      "execution_count": null,
      "outputs": []
    },
    {
      "cell_type": "code",
      "metadata": {
        "id": "MixNW0t0Kic8"
      },
      "source": [
        "from sklearn.metrics import classification_report\n",
        "print(classification_report(y_test,y_pred1))"
      ],
      "execution_count": null,
      "outputs": []
    },
    {
      "cell_type": "code",
      "metadata": {
        "id": "r3VE1uSgSgdX"
      },
      "source": [
        ""
      ],
      "execution_count": null,
      "outputs": []
    },
    {
      "cell_type": "markdown",
      "metadata": {
        "id": "jF5vbqNXSg0e"
      },
      "source": [
        "With word2vec"
      ]
    },
    {
      "cell_type": "code",
      "metadata": {
        "id": "oAz9qHFwSi0p"
      },
      "source": [
        ""
      ],
      "execution_count": null,
      "outputs": []
    },
    {
      "cell_type": "code",
      "metadata": {
        "id": "-dPSkvoMSi4J"
      },
      "source": [
        ""
      ],
      "execution_count": null,
      "outputs": []
    },
    {
      "cell_type": "markdown",
      "metadata": {
        "id": "Vd7GytgeLovR"
      },
      "source": [
        "# 11. CNN"
      ]
    },
    {
      "cell_type": "code",
      "metadata": {
        "id": "D4s45XpXL2DA"
      },
      "source": [
        "from tensorflow.keras import Sequential\n",
        "from tensorflow.keras.layers import Conv1D, Conv2D, Flatten, Dense, MaxPooling1D\n",
        "import tensorflow as tf\n",
        "import keras"
      ],
      "execution_count": null,
      "outputs": []
    },
    {
      "cell_type": "markdown",
      "metadata": {
        "id": "2A48y4xhSkgK"
      },
      "source": [
        "With one hot encoding"
      ]
    },
    {
      "cell_type": "code",
      "metadata": {
        "id": "BDxBwbndN3vI"
      },
      "source": [
        "from tensorflow.keras import Sequential\n",
        "from tensorflow.keras.layers import Conv1D, Conv2D, Flatten, Dense, MaxPooling1D\n",
        "import tensorflow as tf\n",
        "import keras\n",
        "# define model\n",
        "vocab_size=5000\n",
        "model = Sequential()\n",
        "model.add(Embedding(vocab_size, 100, input_length=20))\n",
        "model.add(Conv1D(filters=32, kernel_size=8, activation='relu'))\n",
        "model.add(MaxPooling1D(pool_size=2))\n",
        "model.add(Flatten())\n",
        "model.add(Dense(10, activation='relu'))\n",
        "model.add(Dense(1, activation='sigmoid'))\n",
        "print(model.summary())"
      ],
      "execution_count": null,
      "outputs": []
    },
    {
      "cell_type": "code",
      "metadata": {
        "id": "PFyQAZcJLnwn"
      },
      "source": [
        "# compile network\n",
        "model.compile(loss='binary_crossentropy', optimizer='adam', metrics=['accuracy'])\n",
        "# fit network\n",
        "model.fit(X_train,y_train, epochs=10, verbose=2)"
      ],
      "execution_count": null,
      "outputs": []
    },
    {
      "cell_type": "code",
      "metadata": {
        "id": "4Dgo6sD-Lnza"
      },
      "source": [
        "#Performance Metrics And Accuracy\n",
        "y_pred=model.predict_classes(X_test)\n",
        "from sklearn.metrics import confusion_matrix\n",
        "confusion_matrix(y_test,y_pred)"
      ],
      "execution_count": null,
      "outputs": []
    },
    {
      "cell_type": "code",
      "metadata": {
        "id": "hxfzOEEMMi0W"
      },
      "source": [
        "from sklearn.metrics import accuracy_score\n",
        "accuracy_score(y_test,y_pred)"
      ],
      "execution_count": null,
      "outputs": []
    },
    {
      "cell_type": "code",
      "metadata": {
        "id": "4dcluKvxMqGf"
      },
      "source": [
        "from sklearn.metrics import classification_report\n",
        "print(classification_report(y_test,y_pred))"
      ],
      "execution_count": null,
      "outputs": []
    },
    {
      "cell_type": "markdown",
      "metadata": {
        "id": "Rf-B4C4JSp1b"
      },
      "source": [
        "With word2vec"
      ]
    },
    {
      "cell_type": "code",
      "metadata": {
        "id": "g3F0W80nStAB"
      },
      "source": [
        ""
      ],
      "execution_count": null,
      "outputs": []
    },
    {
      "cell_type": "code",
      "metadata": {
        "id": "ZB1b0WenStDk"
      },
      "source": [
        ""
      ],
      "execution_count": null,
      "outputs": []
    },
    {
      "cell_type": "markdown",
      "metadata": {
        "id": "1y_vWzIFm3tE"
      },
      "source": [
        "## 12. CNN + LSTM"
      ]
    },
    {
      "cell_type": "code",
      "metadata": {
        "id": "u8Gz4RPn_Cy_"
      },
      "source": [
        "# create the model\n",
        "model = Sequential()\n",
        "model.add(Embedding(vocab_size, 100, input_length=20))\n",
        "model.add(Conv1D(filters=32, kernel_size=8, activation='relu'))\n",
        "model.add(MaxPooling1D(pool_size=2))\n",
        "model.add(LSTM(100))\n",
        "model.add(Dense(1, activation='sigmoid'))\n",
        "model.compile(loss='binary_crossentropy', optimizer='adam', metrics=['accuracy'])"
      ],
      "execution_count": null,
      "outputs": []
    },
    {
      "cell_type": "code",
      "metadata": {
        "id": "a7rq_WxaysMV"
      },
      "source": [
        "print(model.summary())"
      ],
      "execution_count": null,
      "outputs": []
    },
    {
      "cell_type": "code",
      "metadata": {
        "id": "vQ0Rtf3g-LAA"
      },
      "source": [
        "#model training\n",
        "model.fit(X_train,y_train,validation_data=(X_test,y_test),epochs=10,batch_size=64)"
      ],
      "execution_count": null,
      "outputs": []
    },
    {
      "cell_type": "code",
      "metadata": {
        "id": "wNcNwaCi-LDq"
      },
      "source": [
        "y_pred=model.predict_classes(X_test)"
      ],
      "execution_count": null,
      "outputs": []
    },
    {
      "cell_type": "code",
      "metadata": {
        "id": "CQ9jsA8f-LG3"
      },
      "source": [
        "from sklearn.metrics import accuracy_score\n",
        "accuracy_score(y_test,y_pred)"
      ],
      "execution_count": null,
      "outputs": []
    },
    {
      "cell_type": "code",
      "metadata": {
        "id": "9aPU6O2Y_C2Q"
      },
      "source": [
        "from sklearn.metrics import confusion_matrix\n",
        "confusion_matrix(y_test,y_pred)"
      ],
      "execution_count": null,
      "outputs": []
    },
    {
      "cell_type": "markdown",
      "metadata": {
        "id": "a-slskVX_DmH"
      },
      "source": [
        "## 13. CNN+Bidirectional LSTM"
      ]
    },
    {
      "cell_type": "code",
      "metadata": {
        "id": "_4QwKKnpm79l"
      },
      "source": [
        "# create the model\n",
        "model = Sequential()\n",
        "model.add(Embedding(vocab_size, 100, input_length=20))\n",
        "model.add(Conv1D(filters=32, kernel_size=8, activation='relu'))\n",
        "model.add(MaxPooling1D(pool_size=2))\n",
        "model.add(Bidirectional(LSTM(100)))\n",
        "model.add(Dense(1, activation='sigmoid'))\n",
        "model.compile(loss='binary_crossentropy', optimizer='adam', metrics=['accuracy'])"
      ],
      "execution_count": null,
      "outputs": []
    },
    {
      "cell_type": "code",
      "metadata": {
        "id": "bvluXoCJ_VHi"
      },
      "source": [
        "print(model.summary())"
      ],
      "execution_count": null,
      "outputs": []
    },
    {
      "cell_type": "code",
      "metadata": {
        "id": "HTClkMTN--7Q"
      },
      "source": [
        "#model training\n",
        "model.fit(X_train,y_train,validation_data=(X_test,y_test),epochs=10,batch_size=64)"
      ],
      "execution_count": null,
      "outputs": []
    },
    {
      "cell_type": "code",
      "metadata": {
        "id": "QmrxYjcq---j",
        "colab": {
          "base_uri": "https://localhost:8080/"
        },
        "outputId": "7a989778-01c2-4d09-d1e3-32658dab2709"
      },
      "source": [
        "y_pred=model.predict_classes(X_test)"
      ],
      "execution_count": null,
      "outputs": [
        {
          "output_type": "stream",
          "text": [
            "/usr/local/lib/python3.7/dist-packages/tensorflow/python/keras/engine/sequential.py:450: UserWarning:\n",
            "\n",
            "`model.predict_classes()` is deprecated and will be removed after 2021-01-01. Please use instead:* `np.argmax(model.predict(x), axis=-1)`,   if your model does multi-class classification   (e.g. if it uses a `softmax` last-layer activation).* `(model.predict(x) > 0.5).astype(\"int32\")`,   if your model does binary classification   (e.g. if it uses a `sigmoid` last-layer activation).\n",
            "\n"
          ],
          "name": "stderr"
        }
      ]
    },
    {
      "cell_type": "code",
      "metadata": {
        "id": "jzuTduZH-_EB"
      },
      "source": [
        "from sklearn.metrics import accuracy_score\n",
        "accuracy_score(y_test,y_pred)"
      ],
      "execution_count": null,
      "outputs": []
    },
    {
      "cell_type": "code",
      "metadata": {
        "id": "TthnF7O5m8A-"
      },
      "source": [
        "from sklearn.metrics import confusion_matrix\n",
        "confusion_matrix(y_test,y_pred)"
      ],
      "execution_count": null,
      "outputs": []
    },
    {
      "cell_type": "markdown",
      "metadata": {
        "id": "rVx46hQ1Owl6"
      },
      "source": [
        "# Summary Report: Model Performance (Accuracy)"
      ]
    },
    {
      "cell_type": "markdown",
      "metadata": {
        "id": "CYyY-FWEQdUI"
      },
      "source": [
        "![model performance.PNG](data:image/png;base64,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)"
      ]
    },
    {
      "cell_type": "markdown",
      "metadata": {
        "id": "0osE3S0xoTV2"
      },
      "source": [
        "## Manual model testing"
      ]
    },
    {
      "cell_type": "markdown",
      "metadata": {
        "id": "nJEK6YQ5O9tC"
      },
      "source": [
        "## Using the best performing model for testing"
      ]
    },
    {
      "cell_type": "code",
      "metadata": {
        "id": "R5YDbSMOoahV"
      },
      "source": [
        "# def output_lable(n):\n",
        "#     if n == 0:\n",
        "#         return \"Fake News\"\n",
        "#     elif n == 1:\n",
        "#         return \"Not A Fake News\"\n",
        "    \n",
        "# def manual_testing(news):\n",
        "#     testing_news = {\"text\":[news]}\n",
        "#     new_def_test = pd.DataFrame(testing_news)\n",
        "#     new_def_test[\"text\"] = new_def_test[\"text\"].apply(wordopt) \n",
        "#     new_x_test = new_def_test[\"text\"]\n",
        "#     new_xv_test = vectorization.transform(new_x_test)\n",
        "#     pred_LR1 = LR.predict(new_xv_test)\n",
        "#     pred_DT = DT.predict(new_xv_test)\n",
        "#     pred_GBC = GBC.predict(new_xv_test)\n",
        "#     pred_RFC1 = RFC.predict(new_xv_test)\n",
        "\n",
        "#     return print(\"\\n\\nLR Prediction: {} \\nDT Prediction: {} \\nGBC Prediction: {} \\nRFC Prediction: {}\".format(output_lable(pred_LR1[0]), \n",
        "#                                                                                                               output_lable(predNB1_OUT[0]), \n",
        "#                                                                                                               output_lable(pred_GBC[0]), \n",
        "#                                                                                                               output_lable(pred_RFC1[0])))"
      ],
      "execution_count": null,
      "outputs": []
    },
    {
      "cell_type": "code",
      "metadata": {
        "id": "Q-z0LYrUTgfN"
      },
      "source": [
        ""
      ],
      "execution_count": null,
      "outputs": []
    }
  ]
}